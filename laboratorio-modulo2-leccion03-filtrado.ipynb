{
 "cells": [
  {
   "cell_type": "markdown",
   "id": "58d52421",
   "metadata": {},
   "source": [
    "<div style=\"text-align: center;\">\n",
    "  <img src=\"https://github.com/Hack-io-Data/Imagenes/blob/main/01-LogosHackio/logo_naranja@4x.png?raw=true\" alt=\"esquema\" />\n",
    "</div>"
   ]
  },
  {
   "cell_type": "markdown",
   "id": "5976b91e",
   "metadata": {},
   "source": [
    "# Laboratorio Filtrado de Datos\n",
    "\n",
    "En este laboratorio usaremos el DataFrame creado en la lección anterior resultado de la unión de los conjuntos de datos compartidos contigo. \n",
    "\n",
    "**Instrucciones:**\n",
    "\n",
    "1. Lee cuidadosamente el enunciado de cada ejercicio.\n",
    "\n",
    "2. Implementa la solución en la celda de código proporcionada."
   ]
  },
  {
   "cell_type": "code",
   "execution_count": null,
   "id": "f33d92ae",
   "metadata": {},
   "outputs": [],
   "source": [
    "# Tratamiento de datos\n",
    "# -----------------------------------------------------------------------\n",
    "import pandas as pd\n",
    "import numpy as np\n",
    "\n",
    "\n",
    "# Configuración\n",
    "# -----------------------------------------------------------------------\n",
    "pd.set_option('display.max_columns', None) # para poder visualizar todas las columnas de los DataFrames\n",
    "\n",
    "# antes de empezar vamos a leer los datos\n",
    "df = pd.read_csv(\"datos/netflix_titles_originales_merge.csv\", index_col=0)\n",
    "df.head(1)\n",
    "\n"
   ]
  },
  {
   "cell_type": "markdown",
   "id": "baef3e35",
   "metadata": {},
   "source": [
    "#### Ejercicio 1: ¿Cuáles son todos los títulos lanzados en 2021 que son del tipo 'Movie'?"
   ]
  },
  {
   "cell_type": "code",
   "execution_count": null,
   "id": "d53e9422",
   "metadata": {},
   "outputs": [],
   "source": [
    "df_filter_1 = df[\"release_year\"] == 2021\n",
    "df_filter_1A = df[\"type\"] == \"Movie\"\n",
    "\n",
    "df_1 = df[df_filter_1 & df_filter_1A]\n",
    "\n",
    "df_1.shape[0]\n"
   ]
  },
  {
   "cell_type": "markdown",
   "id": "e0bc11c3",
   "metadata": {},
   "source": [
    "#### Ejercicio 2: ¿Qué títulos tienen una duración de 90 minutos? Muestra solo las columnas de título y de duración."
   ]
  },
  {
   "cell_type": "code",
   "execution_count": null,
   "id": "8ba93e4d",
   "metadata": {},
   "outputs": [],
   "source": [
    "df_filter_2 = df[\"duration\"] == \"90 min\"\n",
    "\n",
    "df_2 = df[[\"title\",\"duration\"]][df_filter_2].reset_index()\n",
    "\n",
    "df_2.shape[0]"
   ]
  },
  {
   "cell_type": "markdown",
   "id": "9e10b8ff",
   "metadata": {},
   "source": [
    "#### Ejercicio 3: ¿Cuáles son todos los títulos del país 'India' lanzados después de 2018?"
   ]
  },
  {
   "cell_type": "code",
   "execution_count": null,
   "id": "7de490ce",
   "metadata": {},
   "outputs": [],
   "source": [
    "df_filter_3 = df[\"release_year\"] > 2018\n",
    "df_filter_3a = df[\"country\"] == \"India\"\n",
    "\n",
    "df_3 = df[df_filter_3 & df_filter_3a]\n",
    "\n",
    "df_3.shape[0]"
   ]
  },
  {
   "cell_type": "markdown",
   "id": "4e881098",
   "metadata": {},
   "source": [
    "#### Ejercicio 4: ¿Qué títulos tienen clasificación 'TV-14' o 'R'?"
   ]
  },
  {
   "cell_type": "code",
   "execution_count": null,
   "id": "79cc1fbe",
   "metadata": {},
   "outputs": [],
   "source": [
    "# primero definimos una lista con los valores que queremos filtrar\n",
    "lista_valores_4 = ['TV-14', 'R']\n",
    "\n",
    "# aplicamos el método 'isin()' pasando la lista\n",
    "df_clasificacion_4 = df[df[\"rating\"].isin(lista_valores_4)]\n",
    "df_clasificacion_4.shape[0]"
   ]
  },
  {
   "cell_type": "markdown",
   "id": "5367bf08",
   "metadata": {},
   "source": [
    "#### Ejercicio 5: ¿Cuáles son los títulos dirigidos por 'Christopher Nolan' o 'Martin Scorsese'? ¿Cuántos a dirigido cada uno de los directores?"
   ]
  },
  {
   "cell_type": "code",
   "execution_count": null,
   "id": "e0562310",
   "metadata": {},
   "outputs": [],
   "source": [
    "# primero definimos una lista con los valores que queremos filtrar\n",
    "lista_valores_5 = ['Christopher Nolan', 'Martin Scorsese']\n",
    "\n",
    "# aplicamos el método 'isin()' pasando la lista\n",
    "df_clasificacion_5 = df[df[\"director\"].isin(lista_valores_5)]\n",
    "\n",
    "df_clasificacion_5A = df_clasificacion_5[df_clasificacion_5[\"director\"] == 'Christopher Nolan'].reset_index()\n",
    "\n",
    "df_clasificacion_5B = df_clasificacion_5[df_clasificacion_5[\"director\"] == 'Martin Scorsese'].reset_index()\n",
    "\n",
    "print(f\"Peliculas de Christopher Nolan: {df_clasificacion_5A.shape[0]}\")\n",
    "\n",
    "print(f\"Peliculas de Martin Scorsese: {df_clasificacion_5B.shape[0]}\")"
   ]
  },
  {
   "cell_type": "markdown",
   "id": "fc0c621e",
   "metadata": {},
   "source": [
    "#### Ejercicio 6: ¿Qué títulos pertenecen a los países 'United States', 'United Kingdom' o 'Canada'? Dentro de estos países, ¿cuántas películas tienen más de un lenguaje?"
   ]
  },
  {
   "cell_type": "code",
   "execution_count": null,
   "id": "397619a4",
   "metadata": {},
   "outputs": [],
   "source": [
    "lista_valores_6 = ['United States', 'United Kingdom', 'Canada']\n",
    "\n",
    "df_clasificacion_6 = df[df[\"country\"].isin(lista_valores_6)]\n",
    "\n",
    "print(df_clasificacion_6.shape[0])\n",
    "print(df_clasificacion_6[\"Language\"].unique())\n",
    "\n",
    "patron_regex = \"^.*/.*$\"\n",
    "\n",
    "df_research = df_clasificacion_6[df_clasificacion_6[\"Language\"].str.contains(patron_regex, regex = True, na = False, case = False)]\n",
    "\n",
    "print(df_research[\"Language\"].unique())\n",
    "print(f\"Peliculas con varios lenguajes: {df_research.shape[0]}\")  "
   ]
  },
  {
   "cell_type": "markdown",
   "id": "6e36f1ba",
   "metadata": {},
   "source": [
    "#### Ejercicio 7: ¿Qué títulos fueron lanzados entre 2015 y 2020, inclusive?"
   ]
  },
  {
   "cell_type": "code",
   "execution_count": null,
   "id": "f91a0707",
   "metadata": {},
   "outputs": [],
   "source": [
    "df_años_7 = df[df[\"release_year\"].between(2015, 2020, inclusive = \"both\" )]\n",
    "df_años_7.shape[0]"
   ]
  },
  {
   "cell_type": "markdown",
   "id": "8ad3dbc3",
   "metadata": {},
   "source": [
    "#### Ejercicio 8: ¿Cuáles son los títulos cuya puntuación en IMDb está entre 6.5 y 8.0 y que no sepamos cual es su duración?"
   ]
  },
  {
   "cell_type": "code",
   "execution_count": null,
   "id": "08b9c8a1",
   "metadata": {},
   "outputs": [],
   "source": [
    "df_puntuacion_8 = df[df[\"IMDB Score\"].between(6.5, 8.0, inclusive = \"both\" )]\n",
    "filtro_8 = df_puntuacion_8[\"duration\"].notnull()\n",
    "df_result = df_puntuacion_8[filtro_8]\n",
    "df_result.shape[0]"
   ]
  },
  {
   "cell_type": "markdown",
   "id": "0afd742e",
   "metadata": {},
   "source": [
    "#### Ejercicio 9: ¿Cuáles son las películas cuya duración de 90 y 150 minutos?"
   ]
  },
  {
   "cell_type": "code",
   "execution_count": null,
   "id": "80d4c76d",
   "metadata": {},
   "outputs": [],
   "source": [
    "lista_valores_9 = ['90 min', '150 min', 'Canada']\n",
    "\n",
    "df_clasificacion_9 = df[df[\"duration\"].isin(lista_valores_9)]\n",
    "\n",
    "print(df_clasificacion_9.shape[0])\n",
    "print(df_clasificacion_9[\"duration\"].unique())"
   ]
  },
  {
   "cell_type": "markdown",
   "id": "258a99d3",
   "metadata": {},
   "source": [
    "#### Ejercicio 10: ¿Cuáles son los títulos que contienen la palabra 'Love' en su título y que sean de tipo TV Show?"
   ]
  },
  {
   "cell_type": "code",
   "execution_count": null,
   "id": "8daf2abc",
   "metadata": {},
   "outputs": [],
   "source": [
    "se_10 = df[\"title\"].str.contains(\"Love\")\n",
    "se_10_1 = df[\"type\"].str.contains(\"TV Show\")\n",
    "df_10 = df[se_10 & se_10_1]\n",
    "df_10.shape[0]"
   ]
  },
  {
   "cell_type": "markdown",
   "id": "e08091e9",
   "metadata": {},
   "source": [
    "#### Ejercicio 11: ¿Cuáles son los títulos en los que el director tiene el apellido 'Johnson'?"
   ]
  },
  {
   "cell_type": "code",
   "execution_count": null,
   "id": "a8215bbb",
   "metadata": {},
   "outputs": [],
   "source": [
    "se_11 = df[\"director\"].str.contains(\" Johnson$\",na=False, regex=True)\n",
    "\n",
    "df_11 = df[se_11]\n",
    "df_11.shape[0]"
   ]
  },
  {
   "cell_type": "markdown",
   "id": "d5bb45ff",
   "metadata": {},
   "source": [
    "#### Ejercicio 12: ¿Tenemos algún documental ('Documentaries') de Mike Tyson?"
   ]
  },
  {
   "cell_type": "code",
   "execution_count": null,
   "id": "ed7861c2",
   "metadata": {},
   "outputs": [],
   "source": [
    "se_12 = df[\"cast\"].str.contains(\"Mike Tyson\", na=False)\n",
    "se_12_1 = df[\"Genre\"].str.contains(\"Documentaries\", na=False)\n",
    "\n",
    "df_12 = df[se_12 & se_12_1]\n",
    "df_12"
   ]
  },
  {
   "cell_type": "markdown",
   "id": "2bbf4131",
   "metadata": {},
   "source": [
    "#### Ejercicio 13: Selecciona solo las columnas 'title', 'country' y 'release_year' del dataset."
   ]
  },
  {
   "cell_type": "code",
   "execution_count": null,
   "id": "eda1fd35",
   "metadata": {},
   "outputs": [],
   "source": [
    "columnas = ['title', 'country', 'release_year']\n",
    "\n",
    "df[columnas]"
   ]
  },
  {
   "cell_type": "markdown",
   "id": "3a54ee1c",
   "metadata": {},
   "source": [
    "#### Ejercicio 14: Filtra las columnas que contienen la palabra 'date'."
   ]
  },
  {
   "cell_type": "code",
   "execution_count": null,
   "id": "fb861526",
   "metadata": {},
   "outputs": [],
   "source": [
    "df.filter(like=\"date\")\n",
    "df[\"type\"].unique()"
   ]
  },
  {
   "cell_type": "markdown",
   "id": "2fdc640c",
   "metadata": {},
   "source": [
    "#### Ejercicio 15: Usando `query()`, filtra todos los títulos del país 'France' con una duración de 80 minutos."
   ]
  },
  {
   "cell_type": "code",
   "execution_count": null,
   "id": "686daaf5",
   "metadata": {},
   "outputs": [],
   "source": [
    "df_france = df.query('country == \"France\" and duration == \"80 min\"')\n",
    "df_france"
   ]
  },
  {
   "cell_type": "markdown",
   "id": "dbcb48d5",
   "metadata": {},
   "source": [
    "#### Ejercicio 16: Filtra los títulos que son películas ('Movie') y fueron lanzados antes de 2010."
   ]
  },
  {
   "cell_type": "code",
   "execution_count": null,
   "id": "bc49401c",
   "metadata": {},
   "outputs": [],
   "source": [
    "df_movie = df.query('type == \"Movie\" and release_year < 2010')\n",
    "df_movie.shape[0]"
   ]
  },
  {
   "cell_type": "markdown",
   "id": "d7ed2fd6",
   "metadata": {},
   "source": [
    "#### Ejercicio 17: Encuentra los 10 títulos con las puntuaciones más altas en IMDb."
   ]
  },
  {
   "cell_type": "code",
   "execution_count": null,
   "id": "0ca3bb19",
   "metadata": {},
   "outputs": [],
   "source": [
    "df[\"IMDB_Score\"] =  df[\"IMDB Score\"]\n",
    "df_10_titulos = df.query('IMDB_Score > 0').sort_values(by='IMDB_Score', ascending=False)\n",
    "df_10_titulos.head(10)\n"
   ]
  },
  {
   "cell_type": "markdown",
   "id": "46219613",
   "metadata": {},
   "source": [
    "#### Ejercicio 18: Encuentra los 5 títulos con las puntuaciones más bajas en IMDb."
   ]
  },
  {
   "cell_type": "code",
   "execution_count": null,
   "id": "546d1ad2",
   "metadata": {},
   "outputs": [],
   "source": [
    "df[\"IMDB_Score\"] =  df[\"IMDB Score\"]\n",
    "df_10_titulos = df.query('IMDB_Score > 0').sort_values(by='IMDB_Score', ascending=True)\n",
    "df_10_titulos.head(5)"
   ]
  },
  {
   "cell_type": "markdown",
   "id": "3eabf7b5",
   "metadata": {},
   "source": [
    "#### Ejercicio 19: Filtra todos los títulos que no tienen un director asignado (valores nulos en la columna 'director')."
   ]
  },
  {
   "cell_type": "code",
   "execution_count": null,
   "id": "8790fdaa",
   "metadata": {},
   "outputs": [],
   "source": [
    "df_director_not_null= df.query(\"director.notnull()\")\n",
    "df_director_not_null.shape[0]"
   ]
  },
  {
   "cell_type": "markdown",
   "id": "f4597e27",
   "metadata": {},
   "source": [
    "#### Ejercicio 20: Filtra todos los títulos que tienen información completa en las columnas 'title', 'country' y 'IMDB Score'."
   ]
  },
  {
   "cell_type": "code",
   "execution_count": null,
   "id": "540ac699",
   "metadata": {},
   "outputs": [],
   "source": [
    "df_varios_not_null= df.query(\"title.notnull() and country.notnull() and IMDB_Score.notnull()\")\n",
    "df_varios_not_null.shape[0]"
   ]
  },
  {
   "cell_type": "markdown",
   "id": "d18a16fe",
   "metadata": {},
   "source": [
    "#### Ejercicio 21: Identifica si hay títulos duplicados en la columna 'title'."
   ]
  },
  {
   "cell_type": "code",
   "execution_count": null,
   "id": "8b36763b",
   "metadata": {},
   "outputs": [],
   "source": [
    "df_diplicados_title= df.query(\"title.duplicated()\")\n",
    "df_diplicados_title.shape[0]"
   ]
  }
 ],
 "metadata": {
  "kernelspec": {
   "display_name": "Python 3",
   "language": "python",
   "name": "python3"
  },
  "language_info": {
   "codemirror_mode": {
    "name": "ipython",
    "version": 3
   },
   "file_extension": ".py",
   "mimetype": "text/x-python",
   "name": "python",
   "nbconvert_exporter": "python",
   "pygments_lexer": "ipython3",
   "version": "3.12.5"
  }
 },
 "nbformat": 4,
 "nbformat_minor": 5
}
