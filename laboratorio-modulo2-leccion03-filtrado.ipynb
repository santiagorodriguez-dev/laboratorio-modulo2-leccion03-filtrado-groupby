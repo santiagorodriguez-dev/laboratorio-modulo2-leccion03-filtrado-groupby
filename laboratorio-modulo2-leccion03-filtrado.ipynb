{
 "cells": [
  {
   "cell_type": "markdown",
   "id": "58d52421",
   "metadata": {},
   "source": [
    "<div style=\"text-align: center;\">\n",
    "  <img src=\"https://github.com/Hack-io-Data/Imagenes/blob/main/01-LogosHackio/logo_naranja@4x.png?raw=true\" alt=\"esquema\" />\n",
    "</div>"
   ]
  },
  {
   "cell_type": "markdown",
   "id": "5976b91e",
   "metadata": {},
   "source": [
    "# Laboratorio Filtrado de Datos\n",
    "\n",
    "En este laboratorio usaremos el DataFrame creado en la lección anterior resultado de la unión de los conjuntos de datos compartidos contigo. \n",
    "\n",
    "**Instrucciones:**\n",
    "\n",
    "1. Lee cuidadosamente el enunciado de cada ejercicio.\n",
    "\n",
    "2. Implementa la solución en la celda de código proporcionada."
   ]
  },
  {
   "cell_type": "code",
   "execution_count": 2,
   "id": "f33d92ae",
   "metadata": {},
   "outputs": [
    {
     "data": {
      "text/html": [
       "<div>\n",
       "<style scoped>\n",
       "    .dataframe tbody tr th:only-of-type {\n",
       "        vertical-align: middle;\n",
       "    }\n",
       "\n",
       "    .dataframe tbody tr th {\n",
       "        vertical-align: top;\n",
       "    }\n",
       "\n",
       "    .dataframe thead th {\n",
       "        text-align: right;\n",
       "    }\n",
       "</style>\n",
       "<table border=\"1\" class=\"dataframe\">\n",
       "  <thead>\n",
       "    <tr style=\"text-align: right;\">\n",
       "      <th></th>\n",
       "      <th>Title</th>\n",
       "      <th>Genre</th>\n",
       "      <th>Premiere</th>\n",
       "      <th>Runtime</th>\n",
       "      <th>IMDB Score</th>\n",
       "      <th>Language</th>\n",
       "      <th>show_id</th>\n",
       "      <th>type</th>\n",
       "      <th>title</th>\n",
       "      <th>director</th>\n",
       "      <th>cast</th>\n",
       "      <th>country</th>\n",
       "      <th>date_added</th>\n",
       "      <th>release_year</th>\n",
       "      <th>rating</th>\n",
       "      <th>duration</th>\n",
       "      <th>listed_in</th>\n",
       "      <th>description</th>\n",
       "    </tr>\n",
       "  </thead>\n",
       "  <tbody>\n",
       "    <tr>\n",
       "      <th>0</th>\n",
       "      <td>Dick Johnson Is Dead</td>\n",
       "      <td>Documentary</td>\n",
       "      <td>October 2, 2020</td>\n",
       "      <td>90.0</td>\n",
       "      <td>7.5</td>\n",
       "      <td>English</td>\n",
       "      <td>s1</td>\n",
       "      <td>Movie</td>\n",
       "      <td>Dick Johnson Is Dead</td>\n",
       "      <td>Kirsten Johnson</td>\n",
       "      <td>NaN</td>\n",
       "      <td>United States</td>\n",
       "      <td>September 25, 2021</td>\n",
       "      <td>2020</td>\n",
       "      <td>PG-13</td>\n",
       "      <td>90 min</td>\n",
       "      <td>Documentaries</td>\n",
       "      <td>As her father nears the end of his life, filmm...</td>\n",
       "    </tr>\n",
       "  </tbody>\n",
       "</table>\n",
       "</div>"
      ],
      "text/plain": [
       "                  Title        Genre         Premiere  Runtime  IMDB Score  \\\n",
       "0  Dick Johnson Is Dead  Documentary  October 2, 2020     90.0         7.5   \n",
       "\n",
       "  Language show_id   type                 title         director cast  \\\n",
       "0  English      s1  Movie  Dick Johnson Is Dead  Kirsten Johnson  NaN   \n",
       "\n",
       "         country          date_added  release_year rating duration  \\\n",
       "0  United States  September 25, 2021          2020  PG-13   90 min   \n",
       "\n",
       "       listed_in                                        description  \n",
       "0  Documentaries  As her father nears the end of his life, filmm...  "
      ]
     },
     "execution_count": 2,
     "metadata": {},
     "output_type": "execute_result"
    }
   ],
   "source": [
    "# Tratamiento de datos\n",
    "# -----------------------------------------------------------------------\n",
    "import pandas as pd\n",
    "import numpy as np\n",
    "\n",
    "\n",
    "# Configuración\n",
    "# -----------------------------------------------------------------------\n",
    "pd.set_option('display.max_columns', None) # para poder visualizar todas las columnas de los DataFrames\n",
    "\n",
    "# antes de empezar vamos a leer los datos\n",
    "df = pd.read_csv(\"datos/netflix_titles_originales_merge.csv\", index_col=0)\n",
    "df.head(1)\n",
    "\n"
   ]
  },
  {
   "cell_type": "markdown",
   "id": "baef3e35",
   "metadata": {},
   "source": [
    "#### Ejercicio 1: ¿Cuáles son todos los títulos lanzados en 2021 que son del tipo 'Movie'?"
   ]
  },
  {
   "cell_type": "code",
   "execution_count": null,
   "id": "d53e9422",
   "metadata": {},
   "outputs": [],
   "source": [
    "df_filter_1 = df[\"release_year\"] == 2021\n",
    "df_filter_1A = df[\"type\"] == \"Movie\"\n",
    "\n",
    "df_1 = df[df_filter_1 & df_filter_1A]\n",
    "\n",
    "df_1.shape[0]\n"
   ]
  },
  {
   "cell_type": "markdown",
   "id": "e0bc11c3",
   "metadata": {},
   "source": [
    "#### Ejercicio 2: ¿Qué títulos tienen una duración de 90 minutos? Muestra solo las columnas de título y de duración."
   ]
  },
  {
   "cell_type": "code",
   "execution_count": 62,
   "id": "8ba93e4d",
   "metadata": {},
   "outputs": [
    {
     "data": {
      "text/plain": [
       "152"
      ]
     },
     "execution_count": 62,
     "metadata": {},
     "output_type": "execute_result"
    }
   ],
   "source": [
    "df_filter_2 = df[\"duration\"] == \"90 min\"\n",
    "\n",
    "df_2 = df[[\"title\",\"duration\"]][df_filter_2].reset_index()\n",
    "\n",
    "df_2.shape[0]"
   ]
  },
  {
   "cell_type": "markdown",
   "id": "9e10b8ff",
   "metadata": {},
   "source": [
    "#### Ejercicio 3: ¿Cuáles son todos los títulos del país 'India' lanzados después de 2018?"
   ]
  },
  {
   "cell_type": "code",
   "execution_count": 61,
   "id": "7de490ce",
   "metadata": {},
   "outputs": [
    {
     "data": {
      "text/plain": [
       "193"
      ]
     },
     "execution_count": 61,
     "metadata": {},
     "output_type": "execute_result"
    }
   ],
   "source": [
    "df_filter_3 = df[\"release_year\"] > 2018\n",
    "df_filter_3a = df[\"country\"] == \"India\"\n",
    "\n",
    "df_3 = df[df_filter_3 & df_filter_3a]\n",
    "\n",
    "df_3.shape[0]"
   ]
  },
  {
   "cell_type": "markdown",
   "id": "4e881098",
   "metadata": {},
   "source": [
    "#### Ejercicio 4: ¿Qué títulos tienen clasificación 'TV-14' o 'R'?"
   ]
  },
  {
   "cell_type": "code",
   "execution_count": 60,
   "id": "79cc1fbe",
   "metadata": {},
   "outputs": [
    {
     "data": {
      "text/plain": [
       "2959"
      ]
     },
     "execution_count": 60,
     "metadata": {},
     "output_type": "execute_result"
    }
   ],
   "source": [
    "# primero definimos una lista con los valores que queremos filtrar\n",
    "lista_valores_4 = ['TV-14', 'R']\n",
    "\n",
    "# aplicamos el método 'isin()' pasando la lista\n",
    "df_clasificacion_4 = df[df[\"rating\"].isin(lista_valores_4)]\n",
    "df_clasificacion_4.shape[0]"
   ]
  },
  {
   "cell_type": "markdown",
   "id": "5367bf08",
   "metadata": {},
   "source": [
    "#### Ejercicio 5: ¿Cuáles son los títulos dirigidos por 'Christopher Nolan' o 'Martin Scorsese'? ¿Cuántos a dirigido cada uno de los directores?"
   ]
  },
  {
   "cell_type": "code",
   "execution_count": 59,
   "id": "e0562310",
   "metadata": {},
   "outputs": [
    {
     "name": "stdout",
     "output_type": "stream",
     "text": [
      "Peliculas de Christopher Nolan: 1\n",
      "Peliculas de Martin Scorsese: 12\n"
     ]
    }
   ],
   "source": [
    "# primero definimos una lista con los valores que queremos filtrar\n",
    "lista_valores_5 = ['Christopher Nolan', 'Martin Scorsese']\n",
    "\n",
    "# aplicamos el método 'isin()' pasando la lista\n",
    "df_clasificacion_5 = df[df[\"director\"].isin(lista_valores_5)]\n",
    "\n",
    "df_clasificacion_5A = df_clasificacion_5[df_clasificacion_5[\"director\"] == 'Christopher Nolan'].reset_index()\n",
    "\n",
    "df_clasificacion_5B = df_clasificacion_5[df_clasificacion_5[\"director\"] == 'Martin Scorsese'].reset_index()\n",
    "\n",
    "print(f\"Peliculas de Christopher Nolan: {df_clasificacion_5A.shape[0]}\")\n",
    "\n",
    "print(f\"Peliculas de Martin Scorsese: {df_clasificacion_5B.shape[0]}\")"
   ]
  },
  {
   "cell_type": "markdown",
   "id": "fc0c621e",
   "metadata": {},
   "source": [
    "#### Ejercicio 6: ¿Qué títulos pertenecen a los países 'United States', 'United Kingdom' o 'Canada'? Dentro de estos países, ¿cuántas películas tienen más de un lenguaje?"
   ]
  },
  {
   "cell_type": "code",
   "execution_count": 87,
   "id": "397619a4",
   "metadata": {},
   "outputs": [
    {
     "name": "stdout",
     "output_type": "stream",
     "text": [
      "3418\n",
      "['English' nan 'English/Arabic' 'Spanish/English'\n",
      " 'English/Taiwanese/Mandarin' 'French' 'Portuguese' 'Japanese' 'Spanish'\n",
      " 'English/Spanish' 'English/Hindi' 'English/Japanese' 'English/Mandarin'\n",
      " 'English/Russian' 'English/Akan']\n",
      "['English/Arabic' 'Spanish/English' 'English/Taiwanese/Mandarin'\n",
      " 'English/Spanish' 'English/Hindi' 'English/Japanese' 'English/Mandarin'\n",
      " 'English/Russian' 'English/Akan']\n",
      "Peliculas con varios lenguajes: 10\n"
     ]
    }
   ],
   "source": [
    "lista_valores_6 = ['United States', 'United Kingdom', 'Canada']\n",
    "\n",
    "df_clasificacion_6 = df[df[\"country\"].isin(lista_valores_6)]\n",
    "\n",
    "print(df_clasificacion_6.shape[0])\n",
    "print(df_clasificacion_6[\"Language\"].unique())\n",
    "\n",
    "patron_regex = \"^.*/.*$\"\n",
    "\n",
    "df_research = df_clasificacion_6[df_clasificacion_6[\"Language\"].str.contains(patron_regex, regex = True, na = False, case = False)]\n",
    "\n",
    "print(df_research[\"Language\"].unique())\n",
    "print(f\"Peliculas con varios lenguajes: {df_research.shape[0]}\")  "
   ]
  },
  {
   "cell_type": "markdown",
   "id": "6e36f1ba",
   "metadata": {},
   "source": [
    "#### Ejercicio 7: ¿Qué títulos fueron lanzados entre 2015 y 2020, inclusive?"
   ]
  },
  {
   "cell_type": "code",
   "execution_count": 89,
   "id": "f91a0707",
   "metadata": {},
   "outputs": [
    {
     "data": {
      "text/plain": [
       "5624"
      ]
     },
     "execution_count": 89,
     "metadata": {},
     "output_type": "execute_result"
    }
   ],
   "source": [
    "df_años_7 = df[df[\"release_year\"].between(2015, 2020, inclusive = \"both\" )]\n",
    "df_años_7.shape[0]"
   ]
  },
  {
   "cell_type": "markdown",
   "id": "8ad3dbc3",
   "metadata": {},
   "source": [
    "#### Ejercicio 8: ¿Cuáles son los títulos cuya puntuación en IMDb está entre 6.5 y 8.0 y que no sepamos cual es su duración?"
   ]
  },
  {
   "cell_type": "code",
   "execution_count": 104,
   "id": "08b9c8a1",
   "metadata": {},
   "outputs": [
    {
     "data": {
      "text/plain": [
       "131"
      ]
     },
     "execution_count": 104,
     "metadata": {},
     "output_type": "execute_result"
    }
   ],
   "source": [
    "df_puntuacion_8 = df[df[\"IMDB Score\"].between(6.5, 8.0, inclusive = \"both\" )]\n",
    "filtro_8 = df_puntuacion_8[\"duration\"].notnull()\n",
    "df_result = df_puntuacion_8[filtro_8]\n",
    "df_result.shape[0]"
   ]
  },
  {
   "cell_type": "markdown",
   "id": "0afd742e",
   "metadata": {},
   "source": [
    "#### Ejercicio 9: ¿Cuáles son las películas cuya duración de 90 y 150 minutos?"
   ]
  },
  {
   "cell_type": "code",
   "execution_count": 105,
   "id": "80d4c76d",
   "metadata": {},
   "outputs": [
    {
     "name": "stdout",
     "output_type": "stream",
     "text": [
      "169\n",
      "['90 min' '150 min']\n"
     ]
    }
   ],
   "source": [
    "lista_valores_9 = ['90 min', '150 min', 'Canada']\n",
    "\n",
    "df_clasificacion_9 = df[df[\"duration\"].isin(lista_valores_9)]\n",
    "\n",
    "print(df_clasificacion_9.shape[0])\n",
    "print(df_clasificacion_9[\"duration\"].unique())"
   ]
  },
  {
   "cell_type": "markdown",
   "id": "258a99d3",
   "metadata": {},
   "source": [
    "#### Ejercicio 10: ¿Cuáles son los títulos que contienen la palabra 'Love' en su título y que sean de tipo TV Show?"
   ]
  },
  {
   "cell_type": "code",
   "execution_count": 133,
   "id": "8daf2abc",
   "metadata": {},
   "outputs": [
    {
     "data": {
      "text/plain": [
       "70"
      ]
     },
     "execution_count": 133,
     "metadata": {},
     "output_type": "execute_result"
    }
   ],
   "source": [
    "se_10 = df[\"title\"].str.contains(\"Love\")\n",
    "se_10_1 = df[\"type\"].str.contains(\"TV Show\")\n",
    "df_10 = df[se_10 & se_10_1]\n",
    "df_10.shape[0]"
   ]
  },
  {
   "cell_type": "markdown",
   "id": "e08091e9",
   "metadata": {},
   "source": [
    "#### Ejercicio 11: ¿Cuáles son los títulos en los que el director tiene el apellido 'Johnson'?"
   ]
  },
  {
   "cell_type": "code",
   "execution_count": 151,
   "id": "a8215bbb",
   "metadata": {},
   "outputs": [
    {
     "data": {
      "text/plain": [
       "22"
      ]
     },
     "execution_count": 151,
     "metadata": {},
     "output_type": "execute_result"
    }
   ],
   "source": [
    "se_11 = df[\"director\"].str.contains(\" Johnson$\",na=False, regex=True)\n",
    "\n",
    "df_11 = df[se_11]\n",
    "df_11.shape[0]"
   ]
  },
  {
   "cell_type": "markdown",
   "id": "d5bb45ff",
   "metadata": {},
   "source": [
    "#### Ejercicio 12: ¿Tenemos algún documental ('Documentaries') de Mike Tyson?"
   ]
  },
  {
   "cell_type": "code",
   "execution_count": 180,
   "id": "ed7861c2",
   "metadata": {},
   "outputs": [
    {
     "data": {
      "text/html": [
       "<div>\n",
       "<style scoped>\n",
       "    .dataframe tbody tr th:only-of-type {\n",
       "        vertical-align: middle;\n",
       "    }\n",
       "\n",
       "    .dataframe tbody tr th {\n",
       "        vertical-align: top;\n",
       "    }\n",
       "\n",
       "    .dataframe thead th {\n",
       "        text-align: right;\n",
       "    }\n",
       "</style>\n",
       "<table border=\"1\" class=\"dataframe\">\n",
       "  <thead>\n",
       "    <tr style=\"text-align: right;\">\n",
       "      <th></th>\n",
       "      <th>Title</th>\n",
       "      <th>Genre</th>\n",
       "      <th>Premiere</th>\n",
       "      <th>Runtime</th>\n",
       "      <th>IMDB Score</th>\n",
       "      <th>Language</th>\n",
       "      <th>show_id</th>\n",
       "      <th>type</th>\n",
       "      <th>title</th>\n",
       "      <th>director</th>\n",
       "      <th>cast</th>\n",
       "      <th>country</th>\n",
       "      <th>date_added</th>\n",
       "      <th>release_year</th>\n",
       "      <th>rating</th>\n",
       "      <th>duration</th>\n",
       "      <th>listed_in</th>\n",
       "      <th>description</th>\n",
       "    </tr>\n",
       "  </thead>\n",
       "  <tbody>\n",
       "  </tbody>\n",
       "</table>\n",
       "</div>"
      ],
      "text/plain": [
       "Empty DataFrame\n",
       "Columns: [Title, Genre, Premiere, Runtime, IMDB Score, Language, show_id, type, title, director, cast, country, date_added, release_year, rating, duration, listed_in, description]\n",
       "Index: []"
      ]
     },
     "execution_count": 180,
     "metadata": {},
     "output_type": "execute_result"
    }
   ],
   "source": [
    "se_12 = df[\"cast\"].str.contains(\"Mike Tyson\", na=False)\n",
    "se_12_1 = df[\"Genre\"].str.contains(\"Documentaries\", na=False)\n",
    "\n",
    "df_12 = df[se_12 & se_12_1]\n",
    "df_12"
   ]
  },
  {
   "cell_type": "markdown",
   "id": "2bbf4131",
   "metadata": {},
   "source": [
    "#### Ejercicio 13: Selecciona solo las columnas 'title', 'country' y 'release_year' del dataset."
   ]
  },
  {
   "cell_type": "code",
   "execution_count": 162,
   "id": "eda1fd35",
   "metadata": {},
   "outputs": [
    {
     "data": {
      "text/html": [
       "<div>\n",
       "<style scoped>\n",
       "    .dataframe tbody tr th:only-of-type {\n",
       "        vertical-align: middle;\n",
       "    }\n",
       "\n",
       "    .dataframe tbody tr th {\n",
       "        vertical-align: top;\n",
       "    }\n",
       "\n",
       "    .dataframe thead th {\n",
       "        text-align: right;\n",
       "    }\n",
       "</style>\n",
       "<table border=\"1\" class=\"dataframe\">\n",
       "  <thead>\n",
       "    <tr style=\"text-align: right;\">\n",
       "      <th></th>\n",
       "      <th>title</th>\n",
       "      <th>country</th>\n",
       "      <th>release_year</th>\n",
       "    </tr>\n",
       "  </thead>\n",
       "  <tbody>\n",
       "    <tr>\n",
       "      <th>0</th>\n",
       "      <td>Dick Johnson Is Dead</td>\n",
       "      <td>United States</td>\n",
       "      <td>2020</td>\n",
       "    </tr>\n",
       "    <tr>\n",
       "      <th>1</th>\n",
       "      <td>Blood &amp; Water</td>\n",
       "      <td>South Africa</td>\n",
       "      <td>2021</td>\n",
       "    </tr>\n",
       "    <tr>\n",
       "      <th>2</th>\n",
       "      <td>Ganglands</td>\n",
       "      <td>NaN</td>\n",
       "      <td>2021</td>\n",
       "    </tr>\n",
       "    <tr>\n",
       "      <th>3</th>\n",
       "      <td>Jailbirds New Orleans</td>\n",
       "      <td>NaN</td>\n",
       "      <td>2021</td>\n",
       "    </tr>\n",
       "    <tr>\n",
       "      <th>4</th>\n",
       "      <td>Kota Factory</td>\n",
       "      <td>India</td>\n",
       "      <td>2021</td>\n",
       "    </tr>\n",
       "    <tr>\n",
       "      <th>...</th>\n",
       "      <td>...</td>\n",
       "      <td>...</td>\n",
       "      <td>...</td>\n",
       "    </tr>\n",
       "    <tr>\n",
       "      <th>8802</th>\n",
       "      <td>Zodiac</td>\n",
       "      <td>United States</td>\n",
       "      <td>2007</td>\n",
       "    </tr>\n",
       "    <tr>\n",
       "      <th>8803</th>\n",
       "      <td>Zombie Dumb</td>\n",
       "      <td>NaN</td>\n",
       "      <td>2018</td>\n",
       "    </tr>\n",
       "    <tr>\n",
       "      <th>8804</th>\n",
       "      <td>Zombieland</td>\n",
       "      <td>United States</td>\n",
       "      <td>2009</td>\n",
       "    </tr>\n",
       "    <tr>\n",
       "      <th>8805</th>\n",
       "      <td>Zoom</td>\n",
       "      <td>United States</td>\n",
       "      <td>2006</td>\n",
       "    </tr>\n",
       "    <tr>\n",
       "      <th>8806</th>\n",
       "      <td>Zubaan</td>\n",
       "      <td>India</td>\n",
       "      <td>2015</td>\n",
       "    </tr>\n",
       "  </tbody>\n",
       "</table>\n",
       "<p>8807 rows × 3 columns</p>\n",
       "</div>"
      ],
      "text/plain": [
       "                      title        country  release_year\n",
       "0      Dick Johnson Is Dead  United States          2020\n",
       "1             Blood & Water   South Africa          2021\n",
       "2                 Ganglands            NaN          2021\n",
       "3     Jailbirds New Orleans            NaN          2021\n",
       "4              Kota Factory          India          2021\n",
       "...                     ...            ...           ...\n",
       "8802                 Zodiac  United States          2007\n",
       "8803            Zombie Dumb            NaN          2018\n",
       "8804             Zombieland  United States          2009\n",
       "8805                   Zoom  United States          2006\n",
       "8806                 Zubaan          India          2015\n",
       "\n",
       "[8807 rows x 3 columns]"
      ]
     },
     "execution_count": 162,
     "metadata": {},
     "output_type": "execute_result"
    }
   ],
   "source": [
    "columnas = ['title', 'country', 'release_year']\n",
    "\n",
    "df[columnas]"
   ]
  },
  {
   "cell_type": "markdown",
   "id": "3a54ee1c",
   "metadata": {},
   "source": [
    "#### Ejercicio 14: Filtra las columnas que contienen la palabra 'date'."
   ]
  },
  {
   "cell_type": "code",
   "execution_count": 167,
   "id": "fb861526",
   "metadata": {},
   "outputs": [
    {
     "data": {
      "text/plain": [
       "array(['Movie', 'TV Show'], dtype=object)"
      ]
     },
     "execution_count": 167,
     "metadata": {},
     "output_type": "execute_result"
    }
   ],
   "source": [
    "df.filter(like=\"date\")\n",
    "df[\"type\"].unique()"
   ]
  },
  {
   "cell_type": "markdown",
   "id": "2fdc640c",
   "metadata": {},
   "source": [
    "#### Ejercicio 15: Usando `query()`, filtra todos los títulos del país 'France' con una duración de 80 minutos."
   ]
  },
  {
   "cell_type": "code",
   "execution_count": 6,
   "id": "686daaf5",
   "metadata": {},
   "outputs": [
    {
     "data": {
      "text/html": [
       "<div>\n",
       "<style scoped>\n",
       "    .dataframe tbody tr th:only-of-type {\n",
       "        vertical-align: middle;\n",
       "    }\n",
       "\n",
       "    .dataframe tbody tr th {\n",
       "        vertical-align: top;\n",
       "    }\n",
       "\n",
       "    .dataframe thead th {\n",
       "        text-align: right;\n",
       "    }\n",
       "</style>\n",
       "<table border=\"1\" class=\"dataframe\">\n",
       "  <thead>\n",
       "    <tr style=\"text-align: right;\">\n",
       "      <th></th>\n",
       "      <th>Title</th>\n",
       "      <th>Genre</th>\n",
       "      <th>Premiere</th>\n",
       "      <th>Runtime</th>\n",
       "      <th>IMDB Score</th>\n",
       "      <th>Language</th>\n",
       "      <th>show_id</th>\n",
       "      <th>type</th>\n",
       "      <th>title</th>\n",
       "      <th>director</th>\n",
       "      <th>cast</th>\n",
       "      <th>country</th>\n",
       "      <th>date_added</th>\n",
       "      <th>release_year</th>\n",
       "      <th>rating</th>\n",
       "      <th>duration</th>\n",
       "      <th>listed_in</th>\n",
       "      <th>description</th>\n",
       "    </tr>\n",
       "  </thead>\n",
       "  <tbody>\n",
       "    <tr>\n",
       "      <th>5474</th>\n",
       "      <td>NaN</td>\n",
       "      <td>NaN</td>\n",
       "      <td>NaN</td>\n",
       "      <td>NaN</td>\n",
       "      <td>NaN</td>\n",
       "      <td>NaN</td>\n",
       "      <td>s5475</td>\n",
       "      <td>Movie</td>\n",
       "      <td>Arès</td>\n",
       "      <td>Jean-Patrick Benes</td>\n",
       "      <td>Ola Rapace, Micha Lescot, Thierry Hancisse, Hé...</td>\n",
       "      <td>France</td>\n",
       "      <td>May 23, 2017</td>\n",
       "      <td>2016</td>\n",
       "      <td>TV-MA</td>\n",
       "      <td>80 min</td>\n",
       "      <td>Action &amp; Adventure, International Movies, Sci-...</td>\n",
       "      <td>A futuristic France tries to keep its people f...</td>\n",
       "    </tr>\n",
       "  </tbody>\n",
       "</table>\n",
       "</div>"
      ],
      "text/plain": [
       "     Title Genre Premiere  Runtime  IMDB Score Language show_id   type title  \\\n",
       "5474   NaN   NaN      NaN      NaN         NaN      NaN   s5475  Movie  Arès   \n",
       "\n",
       "                director                                               cast  \\\n",
       "5474  Jean-Patrick Benes  Ola Rapace, Micha Lescot, Thierry Hancisse, Hé...   \n",
       "\n",
       "     country    date_added  release_year rating duration  \\\n",
       "5474  France  May 23, 2017          2016  TV-MA   80 min   \n",
       "\n",
       "                                              listed_in  \\\n",
       "5474  Action & Adventure, International Movies, Sci-...   \n",
       "\n",
       "                                            description  \n",
       "5474  A futuristic France tries to keep its people f...  "
      ]
     },
     "execution_count": 6,
     "metadata": {},
     "output_type": "execute_result"
    }
   ],
   "source": [
    "df_france = df.query('country == \"France\" and duration == \"80 min\"')\n",
    "df_france"
   ]
  },
  {
   "cell_type": "markdown",
   "id": "dbcb48d5",
   "metadata": {},
   "source": [
    "#### Ejercicio 16: Filtra los títulos que son películas ('Movie') y fueron lanzados antes de 2010."
   ]
  },
  {
   "cell_type": "code",
   "execution_count": 8,
   "id": "bc49401c",
   "metadata": {},
   "outputs": [
    {
     "data": {
      "text/plain": [
       "1153"
      ]
     },
     "execution_count": 8,
     "metadata": {},
     "output_type": "execute_result"
    }
   ],
   "source": [
    "df_movie = df.query('type == \"Movie\" and release_year < 2010')\n",
    "df_movie.shape[0]"
   ]
  },
  {
   "cell_type": "markdown",
   "id": "d7ed2fd6",
   "metadata": {},
   "source": [
    "#### Ejercicio 17: Encuentra los 10 títulos con las puntuaciones más altas en IMDb."
   ]
  },
  {
   "cell_type": "code",
   "execution_count": null,
   "id": "0ca3bb19",
   "metadata": {},
   "outputs": [],
   "source": [
    "df[\"IMDB_Score\"] =  df[\"IMDB Score\"]\n",
    "df_10_titulos = df.query('IMDB_Score > 0').sort_values(by='IMDB_Score', ascending=False)\n",
    "df_10_titulos.head(10)\n"
   ]
  },
  {
   "cell_type": "markdown",
   "id": "46219613",
   "metadata": {},
   "source": [
    "#### Ejercicio 18: Encuentra los 5 títulos con las puntuaciones más bajas en IMDb."
   ]
  },
  {
   "cell_type": "code",
   "execution_count": 18,
   "id": "546d1ad2",
   "metadata": {},
   "outputs": [
    {
     "data": {
      "text/html": [
       "<div>\n",
       "<style scoped>\n",
       "    .dataframe tbody tr th:only-of-type {\n",
       "        vertical-align: middle;\n",
       "    }\n",
       "\n",
       "    .dataframe tbody tr th {\n",
       "        vertical-align: top;\n",
       "    }\n",
       "\n",
       "    .dataframe thead th {\n",
       "        text-align: right;\n",
       "    }\n",
       "</style>\n",
       "<table border=\"1\" class=\"dataframe\">\n",
       "  <thead>\n",
       "    <tr style=\"text-align: right;\">\n",
       "      <th></th>\n",
       "      <th>Title</th>\n",
       "      <th>Genre</th>\n",
       "      <th>Premiere</th>\n",
       "      <th>Runtime</th>\n",
       "      <th>IMDB Score</th>\n",
       "      <th>Language</th>\n",
       "      <th>show_id</th>\n",
       "      <th>type</th>\n",
       "      <th>title</th>\n",
       "      <th>director</th>\n",
       "      <th>cast</th>\n",
       "      <th>country</th>\n",
       "      <th>date_added</th>\n",
       "      <th>release_year</th>\n",
       "      <th>rating</th>\n",
       "      <th>duration</th>\n",
       "      <th>listed_in</th>\n",
       "      <th>description</th>\n",
       "      <th>IMDB_Score</th>\n",
       "    </tr>\n",
       "  </thead>\n",
       "  <tbody>\n",
       "    <tr>\n",
       "      <th>3623</th>\n",
       "      <td>Enter the Anime</td>\n",
       "      <td>Documentary</td>\n",
       "      <td>August 5, 2019</td>\n",
       "      <td>58.0</td>\n",
       "      <td>2.5</td>\n",
       "      <td>English/Japanese</td>\n",
       "      <td>s3624</td>\n",
       "      <td>Movie</td>\n",
       "      <td>Enter the Anime</td>\n",
       "      <td>Alex Burunova</td>\n",
       "      <td>Kozo Morishita, Yoko Takahashi, Shinji Aramaki...</td>\n",
       "      <td>United States, Japan</td>\n",
       "      <td>August 5, 2019</td>\n",
       "      <td>2019</td>\n",
       "      <td>TV-MA</td>\n",
       "      <td>59 min</td>\n",
       "      <td>Documentaries, International Movies</td>\n",
       "      <td>What is anime? Through deep-dives with notable...</td>\n",
       "      <td>2.5</td>\n",
       "    </tr>\n",
       "    <tr>\n",
       "      <th>2104</th>\n",
       "      <td>Dark Forces</td>\n",
       "      <td>Thriller</td>\n",
       "      <td>August 21, 2020</td>\n",
       "      <td>81.0</td>\n",
       "      <td>2.6</td>\n",
       "      <td>Spanish</td>\n",
       "      <td>s2105</td>\n",
       "      <td>Movie</td>\n",
       "      <td>Dark Forces</td>\n",
       "      <td>Bernardo Arellano</td>\n",
       "      <td>Tenoch Huerta, Eréndira Ibarra, Dale Carley, A...</td>\n",
       "      <td>Mexico</td>\n",
       "      <td>August 21, 2020</td>\n",
       "      <td>2020</td>\n",
       "      <td>TV-MA</td>\n",
       "      <td>81 min</td>\n",
       "      <td>Horror Movies, Independent Movies, Internation...</td>\n",
       "      <td>In search of his sister, a renegade criminal s...</td>\n",
       "      <td>2.6</td>\n",
       "    </tr>\n",
       "    <tr>\n",
       "      <th>3094</th>\n",
       "      <td>The App</td>\n",
       "      <td>Science fiction/Drama</td>\n",
       "      <td>December 26, 2019</td>\n",
       "      <td>79.0</td>\n",
       "      <td>2.6</td>\n",
       "      <td>Italian</td>\n",
       "      <td>s3095</td>\n",
       "      <td>Movie</td>\n",
       "      <td>The App</td>\n",
       "      <td>Elisa Fuksas</td>\n",
       "      <td>Vincenzo Crea, Jessica Cressy, Greta Scarano, ...</td>\n",
       "      <td>Italy</td>\n",
       "      <td>December 26, 2019</td>\n",
       "      <td>2019</td>\n",
       "      <td>TV-MA</td>\n",
       "      <td>79 min</td>\n",
       "      <td>Dramas, Independent Movies, International Movies</td>\n",
       "      <td>While in Rome to shoot his first movie, actor ...</td>\n",
       "      <td>2.6</td>\n",
       "    </tr>\n",
       "    <tr>\n",
       "      <th>5073</th>\n",
       "      <td>The Open House</td>\n",
       "      <td>Horror thriller</td>\n",
       "      <td>January 19, 2018</td>\n",
       "      <td>94.0</td>\n",
       "      <td>3.2</td>\n",
       "      <td>English</td>\n",
       "      <td>s5074</td>\n",
       "      <td>Movie</td>\n",
       "      <td>The Open House</td>\n",
       "      <td>Matt Angel, Suzanne Coote</td>\n",
       "      <td>Dylan Minnette, Piercey Dalton, Patricia Bethu...</td>\n",
       "      <td>Canada, United States</td>\n",
       "      <td>January 19, 2018</td>\n",
       "      <td>2018</td>\n",
       "      <td>TV-MA</td>\n",
       "      <td>NaN</td>\n",
       "      <td>Horror Movies, Thrillers</td>\n",
       "      <td>Following a tragedy, a mother and her teen son...</td>\n",
       "      <td>3.2</td>\n",
       "    </tr>\n",
       "    <tr>\n",
       "      <th>1777</th>\n",
       "      <td>Kaali Khuhi</td>\n",
       "      <td>Mystery</td>\n",
       "      <td>October 30, 2020</td>\n",
       "      <td>90.0</td>\n",
       "      <td>3.4</td>\n",
       "      <td>Hindi</td>\n",
       "      <td>s1778</td>\n",
       "      <td>Movie</td>\n",
       "      <td>Kaali Khuhi</td>\n",
       "      <td>Terrie Samundra</td>\n",
       "      <td>Shabana Azmi, Leela Samson, Sanjeeda Sheikh, S...</td>\n",
       "      <td>India</td>\n",
       "      <td>October 30, 2020</td>\n",
       "      <td>2020</td>\n",
       "      <td>TV-14</td>\n",
       "      <td>NaN</td>\n",
       "      <td>Horror Movies, International Movies</td>\n",
       "      <td>When a restless spirit curses a village that h...</td>\n",
       "      <td>3.4</td>\n",
       "    </tr>\n",
       "  </tbody>\n",
       "</table>\n",
       "</div>"
      ],
      "text/plain": [
       "                Title                  Genre           Premiere  Runtime  \\\n",
       "3623  Enter the Anime            Documentary     August 5, 2019     58.0   \n",
       "2104      Dark Forces               Thriller    August 21, 2020     81.0   \n",
       "3094          The App  Science fiction/Drama  December 26, 2019     79.0   \n",
       "5073   The Open House        Horror thriller   January 19, 2018     94.0   \n",
       "1777      Kaali Khuhi                Mystery   October 30, 2020     90.0   \n",
       "\n",
       "      IMDB Score          Language show_id   type            title  \\\n",
       "3623         2.5  English/Japanese   s3624  Movie  Enter the Anime   \n",
       "2104         2.6           Spanish   s2105  Movie      Dark Forces   \n",
       "3094         2.6           Italian   s3095  Movie          The App   \n",
       "5073         3.2           English   s5074  Movie   The Open House   \n",
       "1777         3.4             Hindi   s1778  Movie      Kaali Khuhi   \n",
       "\n",
       "                       director  \\\n",
       "3623              Alex Burunova   \n",
       "2104          Bernardo Arellano   \n",
       "3094               Elisa Fuksas   \n",
       "5073  Matt Angel, Suzanne Coote   \n",
       "1777            Terrie Samundra   \n",
       "\n",
       "                                                   cast  \\\n",
       "3623  Kozo Morishita, Yoko Takahashi, Shinji Aramaki...   \n",
       "2104  Tenoch Huerta, Eréndira Ibarra, Dale Carley, A...   \n",
       "3094  Vincenzo Crea, Jessica Cressy, Greta Scarano, ...   \n",
       "5073  Dylan Minnette, Piercey Dalton, Patricia Bethu...   \n",
       "1777  Shabana Azmi, Leela Samson, Sanjeeda Sheikh, S...   \n",
       "\n",
       "                    country         date_added  release_year rating duration  \\\n",
       "3623   United States, Japan     August 5, 2019          2019  TV-MA   59 min   \n",
       "2104                 Mexico    August 21, 2020          2020  TV-MA   81 min   \n",
       "3094                  Italy  December 26, 2019          2019  TV-MA   79 min   \n",
       "5073  Canada, United States   January 19, 2018          2018  TV-MA      NaN   \n",
       "1777                  India   October 30, 2020          2020  TV-14      NaN   \n",
       "\n",
       "                                              listed_in  \\\n",
       "3623                Documentaries, International Movies   \n",
       "2104  Horror Movies, Independent Movies, Internation...   \n",
       "3094   Dramas, Independent Movies, International Movies   \n",
       "5073                           Horror Movies, Thrillers   \n",
       "1777                Horror Movies, International Movies   \n",
       "\n",
       "                                            description  IMDB_Score  \n",
       "3623  What is anime? Through deep-dives with notable...         2.5  \n",
       "2104  In search of his sister, a renegade criminal s...         2.6  \n",
       "3094  While in Rome to shoot his first movie, actor ...         2.6  \n",
       "5073  Following a tragedy, a mother and her teen son...         3.2  \n",
       "1777  When a restless spirit curses a village that h...         3.4  "
      ]
     },
     "execution_count": 18,
     "metadata": {},
     "output_type": "execute_result"
    }
   ],
   "source": [
    "df[\"IMDB_Score\"] =  df[\"IMDB Score\"]\n",
    "df_10_titulos = df.query('IMDB_Score > 0').sort_values(by='IMDB_Score', ascending=True)\n",
    "df_10_titulos.head(5)"
   ]
  },
  {
   "cell_type": "markdown",
   "id": "3eabf7b5",
   "metadata": {},
   "source": [
    "#### Ejercicio 19: Filtra todos los títulos que no tienen un director asignado (valores nulos en la columna 'director')."
   ]
  },
  {
   "cell_type": "code",
   "execution_count": null,
   "id": "8790fdaa",
   "metadata": {},
   "outputs": [],
   "source": []
  },
  {
   "cell_type": "markdown",
   "id": "f4597e27",
   "metadata": {},
   "source": [
    "#### Ejercicio 20: Filtra todos los títulos que tienen información completa en las columnas 'title', 'country' y 'IMDB Score'."
   ]
  },
  {
   "cell_type": "code",
   "execution_count": null,
   "id": "540ac699",
   "metadata": {},
   "outputs": [],
   "source": []
  },
  {
   "cell_type": "markdown",
   "id": "d18a16fe",
   "metadata": {},
   "source": [
    "#### Ejercicio 21: Identifica si hay títulos duplicados en la columna 'title'."
   ]
  },
  {
   "cell_type": "code",
   "execution_count": null,
   "id": "8b36763b",
   "metadata": {},
   "outputs": [],
   "source": []
  }
 ],
 "metadata": {
  "kernelspec": {
   "display_name": "Python 3",
   "language": "python",
   "name": "python3"
  },
  "language_info": {
   "codemirror_mode": {
    "name": "ipython",
    "version": 3
   },
   "file_extension": ".py",
   "mimetype": "text/x-python",
   "name": "python",
   "nbconvert_exporter": "python",
   "pygments_lexer": "ipython3",
   "version": "3.12.5"
  }
 },
 "nbformat": 4,
 "nbformat_minor": 5
}
