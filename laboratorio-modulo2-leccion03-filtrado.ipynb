{
 "cells": [
  {
   "cell_type": "markdown",
   "id": "58d52421",
   "metadata": {},
   "source": [
    "<div style=\"text-align: center;\">\n",
    "  <img src=\"https://github.com/Hack-io-Data/Imagenes/blob/main/01-LogosHackio/logo_naranja@4x.png?raw=true\" alt=\"esquema\" />\n",
    "</div>"
   ]
  },
  {
   "cell_type": "markdown",
   "id": "5976b91e",
   "metadata": {},
   "source": [
    "# Laboratorio Filtrado de Datos\n",
    "\n",
    "En este laboratorio usaremos el DataFrame creado en la lección anterior resultado de la unión de los conjuntos de datos compartidos contigo. \n",
    "\n",
    "**Instrucciones:**\n",
    "\n",
    "1. Lee cuidadosamente el enunciado de cada ejercicio.\n",
    "\n",
    "2. Implementa la solución en la celda de código proporcionada."
   ]
  },
  {
   "cell_type": "code",
   "execution_count": 25,
   "id": "f33d92ae",
   "metadata": {},
   "outputs": [
    {
     "data": {
      "text/html": [
       "<div>\n",
       "<style scoped>\n",
       "    .dataframe tbody tr th:only-of-type {\n",
       "        vertical-align: middle;\n",
       "    }\n",
       "\n",
       "    .dataframe tbody tr th {\n",
       "        vertical-align: top;\n",
       "    }\n",
       "\n",
       "    .dataframe thead th {\n",
       "        text-align: right;\n",
       "    }\n",
       "</style>\n",
       "<table border=\"1\" class=\"dataframe\">\n",
       "  <thead>\n",
       "    <tr style=\"text-align: right;\">\n",
       "      <th></th>\n",
       "      <th>Title</th>\n",
       "      <th>Genre</th>\n",
       "      <th>Premiere</th>\n",
       "      <th>Runtime</th>\n",
       "      <th>IMDB Score</th>\n",
       "      <th>Language</th>\n",
       "      <th>show_id</th>\n",
       "      <th>type</th>\n",
       "      <th>title</th>\n",
       "      <th>director</th>\n",
       "      <th>cast</th>\n",
       "      <th>country</th>\n",
       "      <th>date_added</th>\n",
       "      <th>release_year</th>\n",
       "      <th>rating</th>\n",
       "      <th>duration</th>\n",
       "      <th>listed_in</th>\n",
       "      <th>description</th>\n",
       "    </tr>\n",
       "  </thead>\n",
       "  <tbody>\n",
       "    <tr>\n",
       "      <th>0</th>\n",
       "      <td>Dick Johnson Is Dead</td>\n",
       "      <td>Documentary</td>\n",
       "      <td>October 2, 2020</td>\n",
       "      <td>90.0</td>\n",
       "      <td>7.5</td>\n",
       "      <td>English</td>\n",
       "      <td>s1</td>\n",
       "      <td>Movie</td>\n",
       "      <td>Dick Johnson Is Dead</td>\n",
       "      <td>Kirsten Johnson</td>\n",
       "      <td>NaN</td>\n",
       "      <td>United States</td>\n",
       "      <td>September 25, 2021</td>\n",
       "      <td>2020</td>\n",
       "      <td>PG-13</td>\n",
       "      <td>90 min</td>\n",
       "      <td>Documentaries</td>\n",
       "      <td>As her father nears the end of his life, filmm...</td>\n",
       "    </tr>\n",
       "  </tbody>\n",
       "</table>\n",
       "</div>"
      ],
      "text/plain": [
       "                  Title        Genre         Premiere  Runtime  IMDB Score  \\\n",
       "0  Dick Johnson Is Dead  Documentary  October 2, 2020     90.0         7.5   \n",
       "\n",
       "  Language show_id   type                 title         director cast  \\\n",
       "0  English      s1  Movie  Dick Johnson Is Dead  Kirsten Johnson  NaN   \n",
       "\n",
       "         country          date_added  release_year rating duration  \\\n",
       "0  United States  September 25, 2021          2020  PG-13   90 min   \n",
       "\n",
       "       listed_in                                        description  \n",
       "0  Documentaries  As her father nears the end of his life, filmm...  "
      ]
     },
     "execution_count": 25,
     "metadata": {},
     "output_type": "execute_result"
    }
   ],
   "source": [
    "# Tratamiento de datos\n",
    "# -----------------------------------------------------------------------\n",
    "import pandas as pd\n",
    "import numpy as np\n",
    "\n",
    "\n",
    "# Configuración\n",
    "# -----------------------------------------------------------------------\n",
    "pd.set_option('display.max_columns', None) # para poder visualizar todas las columnas de los DataFrames\n",
    "\n",
    "# antes de empezar vamos a leer los datos\n",
    "df = pd.read_csv(\"datos/netflix_titles_originales_merge.csv\", index_col=0)\n",
    "df.head(1)\n",
    "\n"
   ]
  },
  {
   "cell_type": "markdown",
   "id": "baef3e35",
   "metadata": {},
   "source": [
    "#### Ejercicio 1: ¿Cuáles son todos los títulos lanzados en 2021 que son del tipo 'Movie'?"
   ]
  },
  {
   "cell_type": "code",
   "execution_count": null,
   "id": "d53e9422",
   "metadata": {},
   "outputs": [],
   "source": [
    "df_filter_1 = df[\"release_year\"] == 2021\n",
    "df_filter_1A = df[\"type\"] == \"Movie\"\n",
    "\n",
    "df_1 = df[df_filter_1 & df_filter_1A]\n",
    "\n",
    "df_1.shape[0]\n"
   ]
  },
  {
   "cell_type": "markdown",
   "id": "e0bc11c3",
   "metadata": {},
   "source": [
    "#### Ejercicio 2: ¿Qué títulos tienen una duración de 90 minutos? Muestra solo las columnas de título y de duración."
   ]
  },
  {
   "cell_type": "code",
   "execution_count": 62,
   "id": "8ba93e4d",
   "metadata": {},
   "outputs": [
    {
     "data": {
      "text/plain": [
       "152"
      ]
     },
     "execution_count": 62,
     "metadata": {},
     "output_type": "execute_result"
    }
   ],
   "source": [
    "df_filter_2 = df[\"duration\"] == \"90 min\"\n",
    "\n",
    "df_2 = df[[\"title\",\"duration\"]][df_filter_2].reset_index()\n",
    "\n",
    "df_2.shape[0]"
   ]
  },
  {
   "cell_type": "markdown",
   "id": "9e10b8ff",
   "metadata": {},
   "source": [
    "#### Ejercicio 3: ¿Cuáles son todos los títulos del país 'India' lanzados después de 2018?"
   ]
  },
  {
   "cell_type": "code",
   "execution_count": 61,
   "id": "7de490ce",
   "metadata": {},
   "outputs": [
    {
     "data": {
      "text/plain": [
       "193"
      ]
     },
     "execution_count": 61,
     "metadata": {},
     "output_type": "execute_result"
    }
   ],
   "source": [
    "df_filter_3 = df[\"release_year\"] > 2018\n",
    "df_filter_3a = df[\"country\"] == \"India\"\n",
    "\n",
    "df_3 = df[df_filter_3 & df_filter_3a]\n",
    "\n",
    "df_3.shape[0]"
   ]
  },
  {
   "cell_type": "markdown",
   "id": "4e881098",
   "metadata": {},
   "source": [
    "#### Ejercicio 4: ¿Qué títulos tienen clasificación 'TV-14' o 'R'?"
   ]
  },
  {
   "cell_type": "code",
   "execution_count": 60,
   "id": "79cc1fbe",
   "metadata": {},
   "outputs": [
    {
     "data": {
      "text/plain": [
       "2959"
      ]
     },
     "execution_count": 60,
     "metadata": {},
     "output_type": "execute_result"
    }
   ],
   "source": [
    "# primero definimos una lista con los valores que queremos filtrar\n",
    "lista_valores_4 = ['TV-14', 'R']\n",
    "\n",
    "# aplicamos el método 'isin()' pasando la lista\n",
    "df_clasificacion_4 = df[df[\"rating\"].isin(lista_valores_4)]\n",
    "df_clasificacion_4.shape[0]"
   ]
  },
  {
   "cell_type": "markdown",
   "id": "5367bf08",
   "metadata": {},
   "source": [
    "#### Ejercicio 5: ¿Cuáles son los títulos dirigidos por 'Christopher Nolan' o 'Martin Scorsese'? ¿Cuántos a dirigido cada uno de los directores?"
   ]
  },
  {
   "cell_type": "code",
   "execution_count": 59,
   "id": "e0562310",
   "metadata": {},
   "outputs": [
    {
     "name": "stdout",
     "output_type": "stream",
     "text": [
      "Peliculas de Christopher Nolan: 1\n",
      "Peliculas de Martin Scorsese: 12\n"
     ]
    }
   ],
   "source": [
    "# primero definimos una lista con los valores que queremos filtrar\n",
    "lista_valores_5 = ['Christopher Nolan', 'Martin Scorsese']\n",
    "\n",
    "# aplicamos el método 'isin()' pasando la lista\n",
    "df_clasificacion_5 = df[df[\"director\"].isin(lista_valores_5)]\n",
    "\n",
    "df_clasificacion_5A = df_clasificacion_5[df_clasificacion_5[\"director\"] == 'Christopher Nolan'].reset_index()\n",
    "\n",
    "df_clasificacion_5B = df_clasificacion_5[df_clasificacion_5[\"director\"] == 'Martin Scorsese'].reset_index()\n",
    "\n",
    "print(f\"Peliculas de Christopher Nolan: {df_clasificacion_5A.shape[0]}\")\n",
    "\n",
    "print(f\"Peliculas de Martin Scorsese: {df_clasificacion_5B.shape[0]}\")"
   ]
  },
  {
   "cell_type": "markdown",
   "id": "fc0c621e",
   "metadata": {},
   "source": [
    "#### Ejercicio 6: ¿Qué títulos pertenecen a los países 'United States', 'United Kingdom' o 'Canada'? Dentro de estos países, ¿cuántas películas tienen más de un lenguaje?"
   ]
  },
  {
   "cell_type": "code",
   "execution_count": 87,
   "id": "397619a4",
   "metadata": {},
   "outputs": [
    {
     "name": "stdout",
     "output_type": "stream",
     "text": [
      "3418\n",
      "['English' nan 'English/Arabic' 'Spanish/English'\n",
      " 'English/Taiwanese/Mandarin' 'French' 'Portuguese' 'Japanese' 'Spanish'\n",
      " 'English/Spanish' 'English/Hindi' 'English/Japanese' 'English/Mandarin'\n",
      " 'English/Russian' 'English/Akan']\n",
      "['English/Arabic' 'Spanish/English' 'English/Taiwanese/Mandarin'\n",
      " 'English/Spanish' 'English/Hindi' 'English/Japanese' 'English/Mandarin'\n",
      " 'English/Russian' 'English/Akan']\n",
      "Peliculas con varios lenguajes: 10\n"
     ]
    }
   ],
   "source": [
    "lista_valores_6 = ['United States', 'United Kingdom', 'Canada']\n",
    "\n",
    "df_clasificacion_6 = df[df[\"country\"].isin(lista_valores_6)]\n",
    "\n",
    "print(df_clasificacion_6.shape[0])\n",
    "print(df_clasificacion_6[\"Language\"].unique())\n",
    "\n",
    "patron_regex = \"^.*/.*$\"\n",
    "\n",
    "df_research = df_clasificacion_6[df_clasificacion_6[\"Language\"].str.contains(patron_regex, regex = True, na = False, case = False)]\n",
    "\n",
    "print(df_research[\"Language\"].unique())\n",
    "print(f\"Peliculas con varios lenguajes: {df_research.shape[0]}\")  "
   ]
  },
  {
   "cell_type": "markdown",
   "id": "6e36f1ba",
   "metadata": {},
   "source": [
    "#### Ejercicio 7: ¿Qué títulos fueron lanzados entre 2015 y 2020, inclusive?"
   ]
  },
  {
   "cell_type": "code",
   "execution_count": 89,
   "id": "f91a0707",
   "metadata": {},
   "outputs": [
    {
     "data": {
      "text/plain": [
       "5624"
      ]
     },
     "execution_count": 89,
     "metadata": {},
     "output_type": "execute_result"
    }
   ],
   "source": [
    "df_años_7 = df[df[\"release_year\"].between(2015, 2020, inclusive = \"both\" )]\n",
    "df_años_7.shape[0]"
   ]
  },
  {
   "cell_type": "markdown",
   "id": "8ad3dbc3",
   "metadata": {},
   "source": [
    "#### Ejercicio 8: ¿Cuáles son los títulos cuya puntuación en IMDb está entre 6.5 y 8.0 y que no sepamos cual es su duración?"
   ]
  },
  {
   "cell_type": "code",
   "execution_count": 104,
   "id": "08b9c8a1",
   "metadata": {},
   "outputs": [
    {
     "data": {
      "text/plain": [
       "131"
      ]
     },
     "execution_count": 104,
     "metadata": {},
     "output_type": "execute_result"
    }
   ],
   "source": [
    "df_puntuacion_8 = df[df[\"IMDB Score\"].between(6.5, 8.0, inclusive = \"both\" )]\n",
    "filtro_8 = df_puntuacion_8[\"duration\"].notnull()\n",
    "df_result = df_puntuacion_8[filtro_8]\n",
    "df_result.shape[0]"
   ]
  },
  {
   "cell_type": "markdown",
   "id": "0afd742e",
   "metadata": {},
   "source": [
    "#### Ejercicio 9: ¿Cuáles son las películas cuya duración de 90 y 150 minutos?"
   ]
  },
  {
   "cell_type": "code",
   "execution_count": 105,
   "id": "80d4c76d",
   "metadata": {},
   "outputs": [
    {
     "name": "stdout",
     "output_type": "stream",
     "text": [
      "169\n",
      "['90 min' '150 min']\n"
     ]
    }
   ],
   "source": [
    "lista_valores_9 = ['90 min', '150 min', 'Canada']\n",
    "\n",
    "df_clasificacion_9 = df[df[\"duration\"].isin(lista_valores_9)]\n",
    "\n",
    "print(df_clasificacion_9.shape[0])\n",
    "print(df_clasificacion_9[\"duration\"].unique())"
   ]
  },
  {
   "cell_type": "markdown",
   "id": "258a99d3",
   "metadata": {},
   "source": [
    "#### Ejercicio 10: ¿Cuáles son los títulos que contienen la palabra 'Love' en su título y que sean de tipo TV Show?"
   ]
  },
  {
   "cell_type": "code",
   "execution_count": 133,
   "id": "8daf2abc",
   "metadata": {},
   "outputs": [
    {
     "data": {
      "text/plain": [
       "70"
      ]
     },
     "execution_count": 133,
     "metadata": {},
     "output_type": "execute_result"
    }
   ],
   "source": [
    "se_10 = df[\"title\"].str.contains(\"Love\")\n",
    "se_10_1 = df[\"type\"].str.contains(\"TV Show\")\n",
    "df_10 = df[se_10 & se_10_1]\n",
    "df_10.shape[0]"
   ]
  },
  {
   "cell_type": "markdown",
   "id": "e08091e9",
   "metadata": {},
   "source": [
    "#### Ejercicio 11: ¿Cuáles son los títulos en los que el director tiene el apellido 'Johnson'?"
   ]
  },
  {
   "cell_type": "code",
   "execution_count": 151,
   "id": "a8215bbb",
   "metadata": {},
   "outputs": [
    {
     "data": {
      "text/plain": [
       "22"
      ]
     },
     "execution_count": 151,
     "metadata": {},
     "output_type": "execute_result"
    }
   ],
   "source": [
    "se_11 = df[\"director\"].str.contains(\" Johnson$\",na=False, regex=True)\n",
    "\n",
    "df_11 = df[se_11]\n",
    "df_11.shape[0]"
   ]
  },
  {
   "cell_type": "markdown",
   "id": "d5bb45ff",
   "metadata": {},
   "source": [
    "#### Ejercicio 12: ¿Tenemos algún documental ('Documentaries') de Mike Tyson?"
   ]
  },
  {
   "cell_type": "code",
   "execution_count": 179,
   "id": "ed7861c2",
   "metadata": {},
   "outputs": [
    {
     "data": {
      "text/html": [
       "<div>\n",
       "<style scoped>\n",
       "    .dataframe tbody tr th:only-of-type {\n",
       "        vertical-align: middle;\n",
       "    }\n",
       "\n",
       "    .dataframe tbody tr th {\n",
       "        vertical-align: top;\n",
       "    }\n",
       "\n",
       "    .dataframe thead th {\n",
       "        text-align: right;\n",
       "    }\n",
       "</style>\n",
       "<table border=\"1\" class=\"dataframe\">\n",
       "  <thead>\n",
       "    <tr style=\"text-align: right;\">\n",
       "      <th></th>\n",
       "      <th>Title</th>\n",
       "      <th>Genre</th>\n",
       "      <th>Premiere</th>\n",
       "      <th>Runtime</th>\n",
       "      <th>IMDB Score</th>\n",
       "      <th>Language</th>\n",
       "      <th>show_id</th>\n",
       "      <th>type</th>\n",
       "      <th>title</th>\n",
       "      <th>director</th>\n",
       "      <th>cast</th>\n",
       "      <th>country</th>\n",
       "      <th>date_added</th>\n",
       "      <th>release_year</th>\n",
       "      <th>rating</th>\n",
       "      <th>duration</th>\n",
       "      <th>listed_in</th>\n",
       "      <th>description</th>\n",
       "    </tr>\n",
       "  </thead>\n",
       "  <tbody>\n",
       "    <tr>\n",
       "      <th>137</th>\n",
       "      <td>NaN</td>\n",
       "      <td>NaN</td>\n",
       "      <td>NaN</td>\n",
       "      <td>NaN</td>\n",
       "      <td>NaN</td>\n",
       "      <td>NaN</td>\n",
       "      <td>s138</td>\n",
       "      <td>Movie</td>\n",
       "      <td>Crocodile Dundee in Los Angeles</td>\n",
       "      <td>Simon Wincer</td>\n",
       "      <td>Paul Hogan, Linda Kozlowski, Jere Burns, Jonat...</td>\n",
       "      <td>Australia, United States</td>\n",
       "      <td>September 1, 2021</td>\n",
       "      <td>2001</td>\n",
       "      <td>PG</td>\n",
       "      <td>NaN</td>\n",
       "      <td>Action &amp; Adventure, Comedies</td>\n",
       "      <td>When Mick \"Crocodile\" Dundee and his family la...</td>\n",
       "    </tr>\n",
       "    <tr>\n",
       "      <th>5841</th>\n",
       "      <td>NaN</td>\n",
       "      <td>NaN</td>\n",
       "      <td>NaN</td>\n",
       "      <td>NaN</td>\n",
       "      <td>NaN</td>\n",
       "      <td>NaN</td>\n",
       "      <td>s5842</td>\n",
       "      <td>Movie</td>\n",
       "      <td>Ip Man 3</td>\n",
       "      <td>Wilson Yip</td>\n",
       "      <td>Donnie Yen, Zhang Jin, Lynn Hung, Patrick Tam,...</td>\n",
       "      <td>China, Hong Kong</td>\n",
       "      <td>June 18, 2016</td>\n",
       "      <td>2015</td>\n",
       "      <td>PG-13</td>\n",
       "      <td>NaN</td>\n",
       "      <td>Action &amp; Adventure, Dramas, International Movies</td>\n",
       "      <td>Martial arts master Ip springs into action whe...</td>\n",
       "    </tr>\n",
       "    <tr>\n",
       "      <th>6470</th>\n",
       "      <td>NaN</td>\n",
       "      <td>NaN</td>\n",
       "      <td>NaN</td>\n",
       "      <td>NaN</td>\n",
       "      <td>NaN</td>\n",
       "      <td>NaN</td>\n",
       "      <td>s6471</td>\n",
       "      <td>Movie</td>\n",
       "      <td>China Salesman</td>\n",
       "      <td>Tan Bing</td>\n",
       "      <td>Li Dong Xue, Mike Tyson, Steven Seagal, Janick...</td>\n",
       "      <td>China</td>\n",
       "      <td>September 24, 2018</td>\n",
       "      <td>2017</td>\n",
       "      <td>TV-MA</td>\n",
       "      <td>111 min</td>\n",
       "      <td>Action &amp; Adventure, International Movies</td>\n",
       "      <td>A Chinese engineer travels to a war-torn Afric...</td>\n",
       "    </tr>\n",
       "    <tr>\n",
       "      <th>7191</th>\n",
       "      <td>NaN</td>\n",
       "      <td>NaN</td>\n",
       "      <td>NaN</td>\n",
       "      <td>NaN</td>\n",
       "      <td>NaN</td>\n",
       "      <td>NaN</td>\n",
       "      <td>s7192</td>\n",
       "      <td>Movie</td>\n",
       "      <td>Kickboxer: Retaliation</td>\n",
       "      <td>Dimitri Logothetis</td>\n",
       "      <td>Alain Moussi, Jean-Claude Van Damme, Mike Tyso...</td>\n",
       "      <td>United States</td>\n",
       "      <td>April 26, 2018</td>\n",
       "      <td>2017</td>\n",
       "      <td>R</td>\n",
       "      <td>110 min</td>\n",
       "      <td>Action &amp; Adventure</td>\n",
       "      <td>Sloan's vow to never return to Thailand is cut...</td>\n",
       "    </tr>\n",
       "    <tr>\n",
       "      <th>8651</th>\n",
       "      <td>NaN</td>\n",
       "      <td>NaN</td>\n",
       "      <td>NaN</td>\n",
       "      <td>NaN</td>\n",
       "      <td>NaN</td>\n",
       "      <td>NaN</td>\n",
       "      <td>s8652</td>\n",
       "      <td>Movie</td>\n",
       "      <td>Tyson</td>\n",
       "      <td>James Toback</td>\n",
       "      <td>Mike Tyson, Trevor Berbick</td>\n",
       "      <td>United States, France</td>\n",
       "      <td>March 1, 2019</td>\n",
       "      <td>2008</td>\n",
       "      <td>R</td>\n",
       "      <td>90 min</td>\n",
       "      <td>Documentaries, Sports Movies</td>\n",
       "      <td>In this surprisingly emotional documentary, he...</td>\n",
       "    </tr>\n",
       "  </tbody>\n",
       "</table>\n",
       "</div>"
      ],
      "text/plain": [
       "     Title Genre Premiere  Runtime  IMDB Score Language show_id   type  \\\n",
       "137    NaN   NaN      NaN      NaN         NaN      NaN    s138  Movie   \n",
       "5841   NaN   NaN      NaN      NaN         NaN      NaN   s5842  Movie   \n",
       "6470   NaN   NaN      NaN      NaN         NaN      NaN   s6471  Movie   \n",
       "7191   NaN   NaN      NaN      NaN         NaN      NaN   s7192  Movie   \n",
       "8651   NaN   NaN      NaN      NaN         NaN      NaN   s8652  Movie   \n",
       "\n",
       "                                title            director  \\\n",
       "137   Crocodile Dundee in Los Angeles        Simon Wincer   \n",
       "5841                         Ip Man 3          Wilson Yip   \n",
       "6470                   China Salesman            Tan Bing   \n",
       "7191           Kickboxer: Retaliation  Dimitri Logothetis   \n",
       "8651                            Tyson        James Toback   \n",
       "\n",
       "                                                   cast  \\\n",
       "137   Paul Hogan, Linda Kozlowski, Jere Burns, Jonat...   \n",
       "5841  Donnie Yen, Zhang Jin, Lynn Hung, Patrick Tam,...   \n",
       "6470  Li Dong Xue, Mike Tyson, Steven Seagal, Janick...   \n",
       "7191  Alain Moussi, Jean-Claude Van Damme, Mike Tyso...   \n",
       "8651                         Mike Tyson, Trevor Berbick   \n",
       "\n",
       "                       country          date_added  release_year rating  \\\n",
       "137   Australia, United States   September 1, 2021          2001     PG   \n",
       "5841          China, Hong Kong       June 18, 2016          2015  PG-13   \n",
       "6470                     China  September 24, 2018          2017  TV-MA   \n",
       "7191             United States      April 26, 2018          2017      R   \n",
       "8651     United States, France       March 1, 2019          2008      R   \n",
       "\n",
       "     duration                                         listed_in  \\\n",
       "137       NaN                      Action & Adventure, Comedies   \n",
       "5841      NaN  Action & Adventure, Dramas, International Movies   \n",
       "6470  111 min          Action & Adventure, International Movies   \n",
       "7191  110 min                                Action & Adventure   \n",
       "8651   90 min                      Documentaries, Sports Movies   \n",
       "\n",
       "                                            description  \n",
       "137   When Mick \"Crocodile\" Dundee and his family la...  \n",
       "5841  Martial arts master Ip springs into action whe...  \n",
       "6470  A Chinese engineer travels to a war-torn Afric...  \n",
       "7191  Sloan's vow to never return to Thailand is cut...  \n",
       "8651  In this surprisingly emotional documentary, he...  "
      ]
     },
     "execution_count": 179,
     "metadata": {},
     "output_type": "execute_result"
    }
   ],
   "source": [
    "se_12 = df[\"cast\"].str.contains(\"Mike Tyson\", na=False)\n",
    "se_12_1 = df[\"Genre\"].str.contains(\"Documentaries\", na=False)\n",
    "\n",
    "df_12 = df[se_12 & se_12_1]\n",
    "df_12"
   ]
  },
  {
   "cell_type": "markdown",
   "id": "2bbf4131",
   "metadata": {},
   "source": [
    "#### Ejercicio 13: Selecciona solo las columnas 'title', 'country' y 'release_year' del dataset."
   ]
  },
  {
   "cell_type": "code",
   "execution_count": 162,
   "id": "eda1fd35",
   "metadata": {},
   "outputs": [
    {
     "data": {
      "text/html": [
       "<div>\n",
       "<style scoped>\n",
       "    .dataframe tbody tr th:only-of-type {\n",
       "        vertical-align: middle;\n",
       "    }\n",
       "\n",
       "    .dataframe tbody tr th {\n",
       "        vertical-align: top;\n",
       "    }\n",
       "\n",
       "    .dataframe thead th {\n",
       "        text-align: right;\n",
       "    }\n",
       "</style>\n",
       "<table border=\"1\" class=\"dataframe\">\n",
       "  <thead>\n",
       "    <tr style=\"text-align: right;\">\n",
       "      <th></th>\n",
       "      <th>title</th>\n",
       "      <th>country</th>\n",
       "      <th>release_year</th>\n",
       "    </tr>\n",
       "  </thead>\n",
       "  <tbody>\n",
       "    <tr>\n",
       "      <th>0</th>\n",
       "      <td>Dick Johnson Is Dead</td>\n",
       "      <td>United States</td>\n",
       "      <td>2020</td>\n",
       "    </tr>\n",
       "    <tr>\n",
       "      <th>1</th>\n",
       "      <td>Blood &amp; Water</td>\n",
       "      <td>South Africa</td>\n",
       "      <td>2021</td>\n",
       "    </tr>\n",
       "    <tr>\n",
       "      <th>2</th>\n",
       "      <td>Ganglands</td>\n",
       "      <td>NaN</td>\n",
       "      <td>2021</td>\n",
       "    </tr>\n",
       "    <tr>\n",
       "      <th>3</th>\n",
       "      <td>Jailbirds New Orleans</td>\n",
       "      <td>NaN</td>\n",
       "      <td>2021</td>\n",
       "    </tr>\n",
       "    <tr>\n",
       "      <th>4</th>\n",
       "      <td>Kota Factory</td>\n",
       "      <td>India</td>\n",
       "      <td>2021</td>\n",
       "    </tr>\n",
       "    <tr>\n",
       "      <th>...</th>\n",
       "      <td>...</td>\n",
       "      <td>...</td>\n",
       "      <td>...</td>\n",
       "    </tr>\n",
       "    <tr>\n",
       "      <th>8802</th>\n",
       "      <td>Zodiac</td>\n",
       "      <td>United States</td>\n",
       "      <td>2007</td>\n",
       "    </tr>\n",
       "    <tr>\n",
       "      <th>8803</th>\n",
       "      <td>Zombie Dumb</td>\n",
       "      <td>NaN</td>\n",
       "      <td>2018</td>\n",
       "    </tr>\n",
       "    <tr>\n",
       "      <th>8804</th>\n",
       "      <td>Zombieland</td>\n",
       "      <td>United States</td>\n",
       "      <td>2009</td>\n",
       "    </tr>\n",
       "    <tr>\n",
       "      <th>8805</th>\n",
       "      <td>Zoom</td>\n",
       "      <td>United States</td>\n",
       "      <td>2006</td>\n",
       "    </tr>\n",
       "    <tr>\n",
       "      <th>8806</th>\n",
       "      <td>Zubaan</td>\n",
       "      <td>India</td>\n",
       "      <td>2015</td>\n",
       "    </tr>\n",
       "  </tbody>\n",
       "</table>\n",
       "<p>8807 rows × 3 columns</p>\n",
       "</div>"
      ],
      "text/plain": [
       "                      title        country  release_year\n",
       "0      Dick Johnson Is Dead  United States          2020\n",
       "1             Blood & Water   South Africa          2021\n",
       "2                 Ganglands            NaN          2021\n",
       "3     Jailbirds New Orleans            NaN          2021\n",
       "4              Kota Factory          India          2021\n",
       "...                     ...            ...           ...\n",
       "8802                 Zodiac  United States          2007\n",
       "8803            Zombie Dumb            NaN          2018\n",
       "8804             Zombieland  United States          2009\n",
       "8805                   Zoom  United States          2006\n",
       "8806                 Zubaan          India          2015\n",
       "\n",
       "[8807 rows x 3 columns]"
      ]
     },
     "execution_count": 162,
     "metadata": {},
     "output_type": "execute_result"
    }
   ],
   "source": [
    "columnas = ['title', 'country', 'release_year']\n",
    "\n",
    "df[columnas]"
   ]
  },
  {
   "cell_type": "markdown",
   "id": "3a54ee1c",
   "metadata": {},
   "source": [
    "#### Ejercicio 14: Filtra las columnas que contienen la palabra 'date'."
   ]
  },
  {
   "cell_type": "code",
   "execution_count": 167,
   "id": "fb861526",
   "metadata": {},
   "outputs": [
    {
     "data": {
      "text/plain": [
       "array(['Movie', 'TV Show'], dtype=object)"
      ]
     },
     "execution_count": 167,
     "metadata": {},
     "output_type": "execute_result"
    }
   ],
   "source": [
    "df.filter(like=\"date\")\n",
    "df[\"type\"].unique()"
   ]
  },
  {
   "cell_type": "markdown",
   "id": "2fdc640c",
   "metadata": {},
   "source": [
    "#### Ejercicio 15: Usando `query()`, filtra todos los títulos del país 'France' con una duración de 80 minutos."
   ]
  },
  {
   "cell_type": "code",
   "execution_count": null,
   "id": "686daaf5",
   "metadata": {},
   "outputs": [],
   "source": []
  },
  {
   "cell_type": "markdown",
   "id": "dbcb48d5",
   "metadata": {},
   "source": [
    "#### Ejercicio 16: Filtra los títulos que son películas ('Movie') y fueron lanzados antes de 2010."
   ]
  },
  {
   "cell_type": "code",
   "execution_count": null,
   "id": "bc49401c",
   "metadata": {},
   "outputs": [],
   "source": []
  },
  {
   "cell_type": "markdown",
   "id": "d7ed2fd6",
   "metadata": {},
   "source": [
    "#### Ejercicio 17: Encuentra los 10 títulos con las puntuaciones más altas en IMDb."
   ]
  },
  {
   "cell_type": "code",
   "execution_count": null,
   "id": "0ca3bb19",
   "metadata": {},
   "outputs": [],
   "source": []
  },
  {
   "cell_type": "markdown",
   "id": "46219613",
   "metadata": {},
   "source": [
    "#### Ejercicio 18: Encuentra los 5 títulos con las puntuaciones más bajas en IMDb."
   ]
  },
  {
   "cell_type": "code",
   "execution_count": null,
   "id": "546d1ad2",
   "metadata": {},
   "outputs": [],
   "source": []
  },
  {
   "cell_type": "markdown",
   "id": "3eabf7b5",
   "metadata": {},
   "source": [
    "#### Ejercicio 19: Filtra todos los títulos que no tienen un director asignado (valores nulos en la columna 'director')."
   ]
  },
  {
   "cell_type": "code",
   "execution_count": null,
   "id": "8790fdaa",
   "metadata": {},
   "outputs": [],
   "source": []
  },
  {
   "cell_type": "markdown",
   "id": "f4597e27",
   "metadata": {},
   "source": [
    "#### Ejercicio 20: Filtra todos los títulos que tienen información completa en las columnas 'title', 'country' y 'IMDB Score'."
   ]
  },
  {
   "cell_type": "code",
   "execution_count": null,
   "id": "540ac699",
   "metadata": {},
   "outputs": [],
   "source": []
  },
  {
   "cell_type": "markdown",
   "id": "d18a16fe",
   "metadata": {},
   "source": [
    "#### Ejercicio 21: Identifica si hay títulos duplicados en la columna 'title'."
   ]
  },
  {
   "cell_type": "code",
   "execution_count": null,
   "id": "8b36763b",
   "metadata": {},
   "outputs": [],
   "source": []
  }
 ],
 "metadata": {
  "kernelspec": {
   "display_name": "Python 3",
   "language": "python",
   "name": "python3"
  },
  "language_info": {
   "codemirror_mode": {
    "name": "ipython",
    "version": 3
   },
   "file_extension": ".py",
   "mimetype": "text/x-python",
   "name": "python",
   "nbconvert_exporter": "python",
   "pygments_lexer": "ipython3",
   "version": "3.12.5"
  }
 },
 "nbformat": 4,
 "nbformat_minor": 5
}
