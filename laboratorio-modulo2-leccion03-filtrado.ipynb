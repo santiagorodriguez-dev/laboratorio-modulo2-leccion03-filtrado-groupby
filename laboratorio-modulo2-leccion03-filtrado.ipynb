{
 "cells": [
  {
   "cell_type": "markdown",
   "id": "58d52421",
   "metadata": {},
   "source": [
    "<div style=\"text-align: center;\">\n",
    "  <img src=\"https://github.com/Hack-io-Data/Imagenes/blob/main/01-LogosHackio/logo_naranja@4x.png?raw=true\" alt=\"esquema\" />\n",
    "</div>"
   ]
  },
  {
   "cell_type": "markdown",
   "id": "5976b91e",
   "metadata": {},
   "source": [
    "# Laboratorio Filtrado de Datos\n",
    "\n",
    "En este laboratorio usaremos el DataFrame creado en la lección anterior resultado de la unión de los conjuntos de datos compartidos contigo. \n",
    "\n",
    "**Instrucciones:**\n",
    "\n",
    "1. Lee cuidadosamente el enunciado de cada ejercicio.\n",
    "\n",
    "2. Implementa la solución en la celda de código proporcionada."
   ]
  },
  {
   "cell_type": "code",
   "execution_count": 25,
   "id": "f33d92ae",
   "metadata": {},
   "outputs": [
    {
     "data": {
      "text/html": [
       "<div>\n",
       "<style scoped>\n",
       "    .dataframe tbody tr th:only-of-type {\n",
       "        vertical-align: middle;\n",
       "    }\n",
       "\n",
       "    .dataframe tbody tr th {\n",
       "        vertical-align: top;\n",
       "    }\n",
       "\n",
       "    .dataframe thead th {\n",
       "        text-align: right;\n",
       "    }\n",
       "</style>\n",
       "<table border=\"1\" class=\"dataframe\">\n",
       "  <thead>\n",
       "    <tr style=\"text-align: right;\">\n",
       "      <th></th>\n",
       "      <th>Title</th>\n",
       "      <th>Genre</th>\n",
       "      <th>Premiere</th>\n",
       "      <th>Runtime</th>\n",
       "      <th>IMDB Score</th>\n",
       "      <th>Language</th>\n",
       "      <th>show_id</th>\n",
       "      <th>type</th>\n",
       "      <th>title</th>\n",
       "      <th>director</th>\n",
       "      <th>cast</th>\n",
       "      <th>country</th>\n",
       "      <th>date_added</th>\n",
       "      <th>release_year</th>\n",
       "      <th>rating</th>\n",
       "      <th>duration</th>\n",
       "      <th>listed_in</th>\n",
       "      <th>description</th>\n",
       "    </tr>\n",
       "  </thead>\n",
       "  <tbody>\n",
       "    <tr>\n",
       "      <th>0</th>\n",
       "      <td>Dick Johnson Is Dead</td>\n",
       "      <td>Documentary</td>\n",
       "      <td>October 2, 2020</td>\n",
       "      <td>90.0</td>\n",
       "      <td>7.5</td>\n",
       "      <td>English</td>\n",
       "      <td>s1</td>\n",
       "      <td>Movie</td>\n",
       "      <td>Dick Johnson Is Dead</td>\n",
       "      <td>Kirsten Johnson</td>\n",
       "      <td>NaN</td>\n",
       "      <td>United States</td>\n",
       "      <td>September 25, 2021</td>\n",
       "      <td>2020</td>\n",
       "      <td>PG-13</td>\n",
       "      <td>90 min</td>\n",
       "      <td>Documentaries</td>\n",
       "      <td>As her father nears the end of his life, filmm...</td>\n",
       "    </tr>\n",
       "  </tbody>\n",
       "</table>\n",
       "</div>"
      ],
      "text/plain": [
       "                  Title        Genre         Premiere  Runtime  IMDB Score  \\\n",
       "0  Dick Johnson Is Dead  Documentary  October 2, 2020     90.0         7.5   \n",
       "\n",
       "  Language show_id   type                 title         director cast  \\\n",
       "0  English      s1  Movie  Dick Johnson Is Dead  Kirsten Johnson  NaN   \n",
       "\n",
       "         country          date_added  release_year rating duration  \\\n",
       "0  United States  September 25, 2021          2020  PG-13   90 min   \n",
       "\n",
       "       listed_in                                        description  \n",
       "0  Documentaries  As her father nears the end of his life, filmm...  "
      ]
     },
     "execution_count": 25,
     "metadata": {},
     "output_type": "execute_result"
    }
   ],
   "source": [
    "# Tratamiento de datos\n",
    "# -----------------------------------------------------------------------\n",
    "import pandas as pd\n",
    "import numpy as np\n",
    "\n",
    "\n",
    "# Configuración\n",
    "# -----------------------------------------------------------------------\n",
    "pd.set_option('display.max_columns', None) # para poder visualizar todas las columnas de los DataFrames\n",
    "\n",
    "# antes de empezar vamos a leer los datos\n",
    "df = pd.read_csv(\"datos/netflix_titles_originales_merge.csv\", index_col=0)\n",
    "df.head(1)\n",
    "\n"
   ]
  },
  {
   "cell_type": "markdown",
   "id": "baef3e35",
   "metadata": {},
   "source": [
    "#### Ejercicio 1: ¿Cuáles son todos los títulos lanzados en 2021 que son del tipo 'Movie'?"
   ]
  },
  {
   "cell_type": "code",
   "execution_count": null,
   "id": "d53e9422",
   "metadata": {},
   "outputs": [],
   "source": [
    "df_filter_1 = df[\"release_year\"] == 2021\n",
    "df_filter_1A = df[\"type\"] == \"Movie\"\n",
    "\n",
    "df_1 = df[df_filter_1 & df_filter_1A]\n",
    "\n",
    "df_1.count()\n"
   ]
  },
  {
   "cell_type": "markdown",
   "id": "e0bc11c3",
   "metadata": {},
   "source": [
    "#### Ejercicio 2: ¿Qué títulos tienen una duración de 90 minutos? Muestra solo las columnas de título y de duración."
   ]
  },
  {
   "cell_type": "code",
   "execution_count": 29,
   "id": "8ba93e4d",
   "metadata": {},
   "outputs": [
    {
     "data": {
      "text/html": [
       "<div>\n",
       "<style scoped>\n",
       "    .dataframe tbody tr th:only-of-type {\n",
       "        vertical-align: middle;\n",
       "    }\n",
       "\n",
       "    .dataframe tbody tr th {\n",
       "        vertical-align: top;\n",
       "    }\n",
       "\n",
       "    .dataframe thead th {\n",
       "        text-align: right;\n",
       "    }\n",
       "</style>\n",
       "<table border=\"1\" class=\"dataframe\">\n",
       "  <thead>\n",
       "    <tr style=\"text-align: right;\">\n",
       "      <th></th>\n",
       "      <th>index</th>\n",
       "      <th>title</th>\n",
       "      <th>duration</th>\n",
       "    </tr>\n",
       "  </thead>\n",
       "  <tbody>\n",
       "    <tr>\n",
       "      <th>0</th>\n",
       "      <td>0</td>\n",
       "      <td>Dick Johnson Is Dead</td>\n",
       "      <td>90 min</td>\n",
       "    </tr>\n",
       "    <tr>\n",
       "      <th>1</th>\n",
       "      <td>94</td>\n",
       "      <td>Show Dogs</td>\n",
       "      <td>90 min</td>\n",
       "    </tr>\n",
       "    <tr>\n",
       "      <th>2</th>\n",
       "      <td>107</td>\n",
       "      <td>A Champion Heart</td>\n",
       "      <td>90 min</td>\n",
       "    </tr>\n",
       "    <tr>\n",
       "      <th>3</th>\n",
       "      <td>229</td>\n",
       "      <td>The Old Ways</td>\n",
       "      <td>90 min</td>\n",
       "    </tr>\n",
       "    <tr>\n",
       "      <th>4</th>\n",
       "      <td>283</td>\n",
       "      <td>Misha and the Wolves</td>\n",
       "      <td>90 min</td>\n",
       "    </tr>\n",
       "    <tr>\n",
       "      <th>...</th>\n",
       "      <td>...</td>\n",
       "      <td>...</td>\n",
       "      <td>...</td>\n",
       "    </tr>\n",
       "    <tr>\n",
       "      <th>147</th>\n",
       "      <td>8651</td>\n",
       "      <td>Tyson</td>\n",
       "      <td>90 min</td>\n",
       "    </tr>\n",
       "    <tr>\n",
       "      <th>148</th>\n",
       "      <td>8655</td>\n",
       "      <td>Unaccompanied Minors</td>\n",
       "      <td>90 min</td>\n",
       "    </tr>\n",
       "    <tr>\n",
       "      <th>149</th>\n",
       "      <td>8670</td>\n",
       "      <td>Vantage Point</td>\n",
       "      <td>90 min</td>\n",
       "    </tr>\n",
       "    <tr>\n",
       "      <th>150</th>\n",
       "      <td>8735</td>\n",
       "      <td>Who's That Knocking at My Door?</td>\n",
       "      <td>90 min</td>\n",
       "    </tr>\n",
       "    <tr>\n",
       "      <th>151</th>\n",
       "      <td>8776</td>\n",
       "      <td>Yellowbird</td>\n",
       "      <td>90 min</td>\n",
       "    </tr>\n",
       "  </tbody>\n",
       "</table>\n",
       "<p>152 rows × 3 columns</p>\n",
       "</div>"
      ],
      "text/plain": [
       "     index                            title duration\n",
       "0        0             Dick Johnson Is Dead   90 min\n",
       "1       94                        Show Dogs   90 min\n",
       "2      107                 A Champion Heart   90 min\n",
       "3      229                     The Old Ways   90 min\n",
       "4      283             Misha and the Wolves   90 min\n",
       "..     ...                              ...      ...\n",
       "147   8651                            Tyson   90 min\n",
       "148   8655             Unaccompanied Minors   90 min\n",
       "149   8670                    Vantage Point   90 min\n",
       "150   8735  Who's That Knocking at My Door?   90 min\n",
       "151   8776                       Yellowbird   90 min\n",
       "\n",
       "[152 rows x 3 columns]"
      ]
     },
     "execution_count": 29,
     "metadata": {},
     "output_type": "execute_result"
    }
   ],
   "source": [
    "df_filter_2 = df[\"duration\"] == \"90 min\"\n",
    "\n",
    "df_2 = df[[\"title\",\"duration\"]][df_filter_2].reset_index()\n",
    "\n",
    "df_2"
   ]
  },
  {
   "cell_type": "markdown",
   "id": "9e10b8ff",
   "metadata": {},
   "source": [
    "#### Ejercicio 3: ¿Cuáles son todos los títulos del país 'India' lanzados después de 2018?"
   ]
  },
  {
   "cell_type": "code",
   "execution_count": null,
   "id": "7de490ce",
   "metadata": {},
   "outputs": [],
   "source": [
    "df_filter_3 = df[\"release_year\"] > 2018\n",
    "df_filter_3a = df[\"country\"] == \"India\"\n",
    "\n",
    "df_3 = df[df_filter_3 & df_filter_3a]\n",
    "\n",
    "df_3.count()"
   ]
  },
  {
   "cell_type": "markdown",
   "id": "4e881098",
   "metadata": {},
   "source": [
    "#### Ejercicio 4: ¿Qué títulos tienen clasificación 'TV-14' o 'R'?"
   ]
  },
  {
   "cell_type": "code",
   "execution_count": null,
   "id": "79cc1fbe",
   "metadata": {},
   "outputs": [],
   "source": [
    "# primero definimos una lista con los valores que queremos filtrar\n",
    "lista_valores_4 = ['TV-14', 'R']\n",
    "\n",
    "# aplicamos el método 'isin()' pasando la lista\n",
    "df_clasificacion_4 = df[df[\"rating\"].isin(lista_valores_4)]\n",
    "df_clasificacion_4.count()"
   ]
  },
  {
   "cell_type": "markdown",
   "id": "5367bf08",
   "metadata": {},
   "source": [
    "#### Ejercicio 5: ¿Cuáles son los títulos dirigidos por 'Christopher Nolan' o 'Martin Scorsese'? ¿Cuántos a dirigido cada uno de los directores?"
   ]
  },
  {
   "cell_type": "code",
   "execution_count": 59,
   "id": "e0562310",
   "metadata": {},
   "outputs": [
    {
     "name": "stdout",
     "output_type": "stream",
     "text": [
      "Peliculas de Christopher Nolan: 1\n",
      "Peliculas de Martin Scorsese: 12\n"
     ]
    }
   ],
   "source": [
    "# primero definimos una lista con los valores que queremos filtrar\n",
    "lista_valores_5 = ['Christopher Nolan', 'Martin Scorsese']\n",
    "\n",
    "# aplicamos el método 'isin()' pasando la lista\n",
    "df_clasificacion_5 = df[df[\"director\"].isin(lista_valores_5)]\n",
    "\n",
    "df_clasificacion_5A = df_clasificacion_5[df_clasificacion_5[\"director\"] == 'Christopher Nolan'].reset_index()\n",
    "\n",
    "df_clasificacion_5B = df_clasificacion_5[df_clasificacion_5[\"director\"] == 'Martin Scorsese'].reset_index()\n",
    "\n",
    "print(f\"Peliculas de Christopher Nolan: {df_clasificacion_5A.shape[0]}\")\n",
    "\n",
    "print(f\"Peliculas de Martin Scorsese: {df_clasificacion_5B.shape[0]}\")"
   ]
  },
  {
   "cell_type": "markdown",
   "id": "fc0c621e",
   "metadata": {},
   "source": [
    "#### Ejercicio 6: ¿Qué títulos pertenecen a los países 'United States', 'United Kingdom' o 'Canada'? Dentro de estos países, ¿cuántas películas tienen más de un lenguaje?"
   ]
  },
  {
   "cell_type": "code",
   "execution_count": null,
   "id": "397619a4",
   "metadata": {},
   "outputs": [],
   "source": []
  },
  {
   "cell_type": "markdown",
   "id": "6e36f1ba",
   "metadata": {},
   "source": [
    "#### Ejercicio 7: ¿Qué títulos fueron lanzados entre 2015 y 2020, inclusive?"
   ]
  },
  {
   "cell_type": "code",
   "execution_count": null,
   "id": "f91a0707",
   "metadata": {},
   "outputs": [],
   "source": []
  },
  {
   "cell_type": "markdown",
   "id": "8ad3dbc3",
   "metadata": {},
   "source": [
    "#### Ejercicio 8: ¿Cuáles son los títulos cuya puntuación en IMDb está entre 6.5 y 8.0 y que no sepamos cual es su duración?"
   ]
  },
  {
   "cell_type": "code",
   "execution_count": null,
   "id": "08b9c8a1",
   "metadata": {},
   "outputs": [],
   "source": []
  },
  {
   "cell_type": "markdown",
   "id": "0afd742e",
   "metadata": {},
   "source": [
    "#### Ejercicio 9: ¿Cuáles son las películas cuya duración de 90 y 150 minutos?"
   ]
  },
  {
   "cell_type": "code",
   "execution_count": null,
   "id": "80d4c76d",
   "metadata": {},
   "outputs": [],
   "source": []
  },
  {
   "cell_type": "markdown",
   "id": "258a99d3",
   "metadata": {},
   "source": [
    "#### Ejercicio 10: ¿Cuáles son los títulos que contienen la palabra 'Love' en su título y que sean de tipo TV Show?"
   ]
  },
  {
   "cell_type": "code",
   "execution_count": null,
   "id": "8daf2abc",
   "metadata": {},
   "outputs": [],
   "source": []
  },
  {
   "cell_type": "markdown",
   "id": "e08091e9",
   "metadata": {},
   "source": [
    "#### Ejercicio 11: ¿Cuáles son los títulos en los que el director tiene el apellido 'Johnson'?"
   ]
  },
  {
   "cell_type": "code",
   "execution_count": null,
   "id": "a8215bbb",
   "metadata": {},
   "outputs": [],
   "source": []
  },
  {
   "cell_type": "markdown",
   "id": "d5bb45ff",
   "metadata": {},
   "source": [
    "#### Ejercicio 12: ¿Tenemos algún documental ('Documentaries') de Mike Tyson?"
   ]
  },
  {
   "cell_type": "code",
   "execution_count": null,
   "id": "ed7861c2",
   "metadata": {},
   "outputs": [],
   "source": []
  },
  {
   "cell_type": "markdown",
   "id": "2bbf4131",
   "metadata": {},
   "source": [
    "#### Ejercicio 13: Selecciona solo las columnas 'title', 'country' y 'release_year' del dataset."
   ]
  },
  {
   "cell_type": "code",
   "execution_count": null,
   "id": "eda1fd35",
   "metadata": {},
   "outputs": [],
   "source": []
  },
  {
   "cell_type": "markdown",
   "id": "3a54ee1c",
   "metadata": {},
   "source": [
    "#### Ejercicio 14: Filtra las columnas que contienen la palabra 'date'."
   ]
  },
  {
   "cell_type": "code",
   "execution_count": null,
   "id": "fb861526",
   "metadata": {},
   "outputs": [],
   "source": []
  },
  {
   "cell_type": "markdown",
   "id": "2fdc640c",
   "metadata": {},
   "source": [
    "#### Ejercicio 15: Usando `query()`, filtra todos los títulos del país 'France' con una duración de 80 minutos."
   ]
  },
  {
   "cell_type": "code",
   "execution_count": null,
   "id": "686daaf5",
   "metadata": {},
   "outputs": [],
   "source": []
  },
  {
   "cell_type": "markdown",
   "id": "dbcb48d5",
   "metadata": {},
   "source": [
    "#### Ejercicio 16: Filtra los títulos que son películas ('Movie') y fueron lanzados antes de 2010."
   ]
  },
  {
   "cell_type": "code",
   "execution_count": null,
   "id": "bc49401c",
   "metadata": {},
   "outputs": [],
   "source": []
  },
  {
   "cell_type": "markdown",
   "id": "d7ed2fd6",
   "metadata": {},
   "source": [
    "#### Ejercicio 17: Encuentra los 10 títulos con las puntuaciones más altas en IMDb."
   ]
  },
  {
   "cell_type": "code",
   "execution_count": null,
   "id": "0ca3bb19",
   "metadata": {},
   "outputs": [],
   "source": []
  },
  {
   "cell_type": "markdown",
   "id": "46219613",
   "metadata": {},
   "source": [
    "#### Ejercicio 18: Encuentra los 5 títulos con las puntuaciones más bajas en IMDb."
   ]
  },
  {
   "cell_type": "code",
   "execution_count": null,
   "id": "546d1ad2",
   "metadata": {},
   "outputs": [],
   "source": []
  },
  {
   "cell_type": "markdown",
   "id": "3eabf7b5",
   "metadata": {},
   "source": [
    "#### Ejercicio 19: Filtra todos los títulos que no tienen un director asignado (valores nulos en la columna 'director')."
   ]
  },
  {
   "cell_type": "code",
   "execution_count": null,
   "id": "8790fdaa",
   "metadata": {},
   "outputs": [],
   "source": []
  },
  {
   "cell_type": "markdown",
   "id": "f4597e27",
   "metadata": {},
   "source": [
    "#### Ejercicio 20: Filtra todos los títulos que tienen información completa en las columnas 'title', 'country' y 'IMDB Score'."
   ]
  },
  {
   "cell_type": "code",
   "execution_count": null,
   "id": "540ac699",
   "metadata": {},
   "outputs": [],
   "source": []
  },
  {
   "cell_type": "markdown",
   "id": "d18a16fe",
   "metadata": {},
   "source": [
    "#### Ejercicio 21: Identifica si hay títulos duplicados en la columna 'title'."
   ]
  },
  {
   "cell_type": "code",
   "execution_count": null,
   "id": "8b36763b",
   "metadata": {},
   "outputs": [],
   "source": []
  }
 ],
 "metadata": {
  "kernelspec": {
   "display_name": "Python 3",
   "language": "python",
   "name": "python3"
  },
  "language_info": {
   "codemirror_mode": {
    "name": "ipython",
    "version": 3
   },
   "file_extension": ".py",
   "mimetype": "text/x-python",
   "name": "python",
   "nbconvert_exporter": "python",
   "pygments_lexer": "ipython3",
   "version": "3.12.5"
  }
 },
 "nbformat": 4,
 "nbformat_minor": 5
}
